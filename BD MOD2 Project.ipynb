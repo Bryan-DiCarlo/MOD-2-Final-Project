{
 "cells": [
  {
   "cell_type": "markdown",
   "metadata": {},
   "source": [
    "# MOD 2 Final Project Submission\n",
    "* Student name: Bryan DiCarlo\n",
    "* Student pace: Full Time Online 4/15/19 Cohort\n",
    "* Scheduled project review date/time: Tuesday June 18 @ 12:30pm\n",
    "* Instructor name: Rafael Carrasco\n",
    "* Blog post URL: https://bryan-dicarlo.github.io/hypothesis_testing_and_the_northwind\n"
   ]
  },
  {
   "cell_type": "markdown",
   "metadata": {},
   "source": [
    "# Introduction\n",
    "* For this project, we will be working with the Northwind database--a free, open-source dataset created by Microsoft containing data from a fictional trading company.\n",
    "* Data will be gathered from the database using SQL queries.  After exploring the data, important Business questions will be posed and answered using hypothesis testing\n"
   ]
  },
  {
   "cell_type": "markdown",
   "metadata": {},
   "source": [
    "# The Northwind Database\n",
    "<img src='Northwind_ERD.png'>"
   ]
  },
  {
   "cell_type": "markdown",
   "metadata": {},
   "source": [
    "# Methodology: 5 steps for the Scientific Method and Hypothesis Testing\n",
    "1. In each section a general business question will be posed and then investigated.\n",
    "2. The data to answer the question will be drawn from the database through SQl queries and explored through EDA\n",
    "3. The hypothesis to be tested will be formulated and stated.  All hypothesis testing will be done at the $\\alpha$ = 0.05 level\n",
    "4. Testing the hypothesis.  The appropriate hypothesis test for each question will be determined. The undelying assumtions of each test will be examined.  The hypothesis will be tested using the appropriate test for each question.\n",
    "5. The results will be analyzed and it will be determined if we have evidence to reject the null hypothesis or fail to reject the null hypthesis based on the evidence.  Results will be stated.  Conclusions that can be drawn from the experiment will be reported"
   ]
  },
  {
   "cell_type": "markdown",
   "metadata": {},
   "source": [
    "# Questions to be Explored\n",
    "* 1. Do discounts have a statistically significant effect on the number of products customers order? Part B: What levels of discounts are significant compared to No Discount?\n",
    "* 2. Investigating the Revenue Generated from the Different Regions Northwind Serves. Are there differences?\n",
    "* 3. Split the Northwind customer base into The Americas and Greater Europe to compare spending and revenue from customers on different sides of the globe. Do we find any differences?\n",
    "* 4. Analyze the number of products sold from each of Northwind's product categories. Do sales differ between product categories?\n",
    "* 5. Compare Average Sales Totals from 2012-2013 to 2013-2014. Is there statistically significant revenue growth?\n",
    "* 6. Some interesting questions for future work.  I briefly investigate employee sales below.  It would also be important to know the performance of Northwind's three shipping companies. Data is incomplete but I start this analysis below.\n"
   ]
  },
  {
   "cell_type": "markdown",
   "metadata": {},
   "source": [
    "# Imports"
   ]
  },
  {
   "cell_type": "code",
   "execution_count": 422,
   "metadata": {},
   "outputs": [],
   "source": [
    "from scipy import stats\n",
    "from sqlalchemy import create_engine\n",
    "from sqlalchemy.orm import Session, sessionmaker\n",
    "import pandas as pd\n",
    "import seaborn as sns\n",
    "import numpy as np\n",
    "import matplotlib.pyplot as plt\n",
    "import statsmodels.api as sm\n",
    "from statsmodels.formula.api import ols\n",
    "from statsmodels.stats.multicomp import (pairwise_tukeyhsd, MultiComparison)\n",
    "%matplotlib inline\n",
    "import warnings\n",
    "warnings.filterwarnings('ignore')"
   ]
  },
  {
   "cell_type": "markdown",
   "metadata": {},
   "source": [
    "# Connecting to The Database"
   ]
  },
  {
   "cell_type": "code",
   "execution_count": 423,
   "metadata": {},
   "outputs": [
    {
     "name": "stdout",
     "output_type": "stream",
     "text": [
      "2019-06-15 20:09:59,570 INFO sqlalchemy.engine.base.Engine SELECT CAST('test plain returns' AS VARCHAR(60)) AS anon_1\n",
      "2019-06-15 20:09:59,572 INFO sqlalchemy.engine.base.Engine ()\n",
      "2019-06-15 20:09:59,573 INFO sqlalchemy.engine.base.Engine SELECT CAST('test unicode returns' AS VARCHAR(60)) AS anon_1\n",
      "2019-06-15 20:09:59,574 INFO sqlalchemy.engine.base.Engine ()\n"
     ]
    }
   ],
   "source": [
    "# Creating an engine and connecting to a database with SQLAlchemy\n",
    "engine = create_engine('sqlite:///Northwind_small.sqlite', echo=True)\n",
    "Session = sessionmaker(bind=engine)\n",
    "session = Session()\n",
    "con = engine.connect()"
   ]
  },
  {
   "cell_type": "markdown",
   "metadata": {},
   "source": [
    "## Notes on Exploration of the Database and ERD\n",
    "1. As is often the case. There are discrepancies between the published ERD and the actual Table and column names contained in the datbase.\n",
    "2. The table names are singular instead of the plural listed in the ERD.  There are also discrepancies in column names.\n",
    "3. For sake of space and readability I performed this analysis in a practice notebook before constructing each SQL query\n",
    "4. This notebook will contain SQl queries  using the corrected information from this analysis\n"
   ]
  },
  {
   "cell_type": "markdown",
   "metadata": {},
   "source": [
    "# Question # 1: Do discounts have a statistically significant effect on the number of products customers order? "
   ]
  },
  {
   "cell_type": "markdown",
   "metadata": {},
   "source": [
    "## EDA"
   ]
  },
  {
   "cell_type": "markdown",
   "metadata": {},
   "source": [
    "### From initial inspection all the information needed to answer this question is contained in the OrderDetail table from our database"
   ]
  },
  {
   "cell_type": "code",
   "execution_count": 424,
   "metadata": {},
   "outputs": [
    {
     "name": "stdout",
     "output_type": "stream",
     "text": [
      "2019-06-15 20:09:59,650 INFO sqlalchemy.engine.base.Engine  SELECT * FROM OrderDetail\n",
      "2019-06-15 20:09:59,651 INFO sqlalchemy.engine.base.Engine ()\n"
     ]
    },
    {
     "data": {
      "text/html": [
       "<div>\n",
       "<style scoped>\n",
       "    .dataframe tbody tr th:only-of-type {\n",
       "        vertical-align: middle;\n",
       "    }\n",
       "\n",
       "    .dataframe tbody tr th {\n",
       "        vertical-align: top;\n",
       "    }\n",
       "\n",
       "    .dataframe thead th {\n",
       "        text-align: right;\n",
       "    }\n",
       "</style>\n",
       "<table border=\"1\" class=\"dataframe\">\n",
       "  <thead>\n",
       "    <tr style=\"text-align: right;\">\n",
       "      <th></th>\n",
       "      <th>Id</th>\n",
       "      <th>OrderId</th>\n",
       "      <th>ProductId</th>\n",
       "      <th>UnitPrice</th>\n",
       "      <th>Quantity</th>\n",
       "      <th>Discount</th>\n",
       "    </tr>\n",
       "  </thead>\n",
       "  <tbody>\n",
       "    <tr>\n",
       "      <th>0</th>\n",
       "      <td>10248/11</td>\n",
       "      <td>10248</td>\n",
       "      <td>11</td>\n",
       "      <td>14.0</td>\n",
       "      <td>12</td>\n",
       "      <td>0.0</td>\n",
       "    </tr>\n",
       "    <tr>\n",
       "      <th>1</th>\n",
       "      <td>10248/42</td>\n",
       "      <td>10248</td>\n",
       "      <td>42</td>\n",
       "      <td>9.8</td>\n",
       "      <td>10</td>\n",
       "      <td>0.0</td>\n",
       "    </tr>\n",
       "    <tr>\n",
       "      <th>2</th>\n",
       "      <td>10248/72</td>\n",
       "      <td>10248</td>\n",
       "      <td>72</td>\n",
       "      <td>34.8</td>\n",
       "      <td>5</td>\n",
       "      <td>0.0</td>\n",
       "    </tr>\n",
       "    <tr>\n",
       "      <th>3</th>\n",
       "      <td>10249/14</td>\n",
       "      <td>10249</td>\n",
       "      <td>14</td>\n",
       "      <td>18.6</td>\n",
       "      <td>9</td>\n",
       "      <td>0.0</td>\n",
       "    </tr>\n",
       "    <tr>\n",
       "      <th>4</th>\n",
       "      <td>10249/51</td>\n",
       "      <td>10249</td>\n",
       "      <td>51</td>\n",
       "      <td>42.4</td>\n",
       "      <td>40</td>\n",
       "      <td>0.0</td>\n",
       "    </tr>\n",
       "  </tbody>\n",
       "</table>\n",
       "</div>"
      ],
      "text/plain": [
       "         Id  OrderId  ProductId  UnitPrice  Quantity  Discount\n",
       "0  10248/11    10248         11       14.0        12       0.0\n",
       "1  10248/42    10248         42        9.8        10       0.0\n",
       "2  10248/72    10248         72       34.8         5       0.0\n",
       "3  10249/14    10249         14       18.6         9       0.0\n",
       "4  10249/51    10249         51       42.4        40       0.0"
      ]
     },
     "execution_count": 424,
     "metadata": {},
     "output_type": "execute_result"
    }
   ],
   "source": [
    "# Read the OrderDetail table from the database into a dataframe for further analysis\n",
    "df_orderdetail = pd.read_sql_query(''' SELECT * FROM OrderDetail''', engine)\n",
    "df_orderdetail.head()"
   ]
  },
  {
   "cell_type": "markdown",
   "metadata": {},
   "source": [
    "### Inspect visually to check for differences in quantity between discounted and non-discounted orders"
   ]
  },
  {
   "cell_type": "code",
   "execution_count": 425,
   "metadata": {},
   "outputs": [
    {
     "data": {
      "image/png": "[encoded data removed]",
      "text/plain": [
       "<Figure size 1152x432 with 1 Axes>"
      ]
     },
     "metadata": {
      "needs_background": "light"
     },
     "output_type": "display_data"
    }
   ],
   "source": [
    "# Separate the data into groups with discount and without discount and compare avg order size visually\n",
    "disc = df_orderdetail[df_orderdetail['Discount']!=0].groupby('ProductId')['Quantity'].mean()\n",
    "no_disc = df_orderdetail[df_orderdetail['Discount']==0].groupby('ProductId')['Quantity'].mean()\n",
    "plt.figure(figsize=(16,6))\n",
    "plt.bar(disc.index, disc.values, alpha=1, label='With Discount', color='midnightblue')\n",
    "plt.bar(no_disc.index, no_disc.values, alpha=0.7, label='Without Discount', color='r')\n",
    "plt.legend()\n",
    "plt.title('Orders With Discount vs Orders Without Discount', fontsize=25)\n",
    "plt.xlabel('Product', fontsize=20)\n",
    "plt.ylabel('Order Size', fontsize=20)\n",
    "plt.show()\n"
   ]
  },
  {
   "cell_type": "markdown",
   "metadata": {},
   "source": [
    "### It does appear that dicounted orders result in higher order quantities overall.  Split the two groups and investigate further"
   ]
  },
  {
   "cell_type": "code",
   "execution_count": 426,
   "metadata": {},
   "outputs": [
    {
     "data": {
      "text/plain": [
       "(count    838.000000\n",
       " mean      27.109785\n",
       " std       20.771439\n",
       " min        1.000000\n",
       " 25%       12.000000\n",
       " 50%       20.000000\n",
       " 75%       36.000000\n",
       " max      130.000000\n",
       " Name: Quantity, dtype: float64, count    1317.000000\n",
       " mean       21.715262\n",
       " std        17.507493\n",
       " min         1.000000\n",
       " 25%        10.000000\n",
       " 50%        18.000000\n",
       " 75%        30.000000\n",
       " max       130.000000\n",
       " Name: Quantity, dtype: float64)"
      ]
     },
     "execution_count": 426,
     "metadata": {},
     "output_type": "execute_result"
    }
   ],
   "source": [
    "# split the dataframe into discount and no discount and compare the descrptive statistics\n",
    "discount = df_orderdetail[df_orderdetail['Discount']!=0]['Quantity']\n",
    "no_discount = df_orderdetail[df_orderdetail['Discount']==0]['Quantity']\n",
    "discount.describe(), no_discount.describe()"
   ]
  },
  {
   "cell_type": "markdown",
   "metadata": {},
   "source": [
    "### This appears to be a good candidate for two sample t-test.  Lets looks at our distributions"
   ]
  },
  {
   "cell_type": "code",
   "execution_count": 427,
   "metadata": {},
   "outputs": [],
   "source": [
    "#Function to compare experimental and control group distributions and means visually\n",
    "def compare_2_distributions_vis(control, experimental):\n",
    "    '''Function will compare the distributions of two sample populations'''\n",
    "    plt.figure(figsize=(15,6))\n",
    "    sns.distplot(control, bins = 50, label= \"No Discount\", color ='springgreen')\n",
    "    sns.distplot(experimental, bins = 50, label= \"Discounted\", color='darkblue')\n",
    "    plt.axvline(x=control.mean(), color='r', linestyle='--', label='No Discount Mean')\n",
    "    plt.axvline(x=experimental.mean(), color='k', linestyle='--', label='Discounted Mean')\n",
    "    \n",
    "    plt.title('No Discount vs Discounted Distributions', fontsize= 18)\n",
    "    plt.xlabel('No Discount vs Discounted Distributions', fontsize=15)\n",
    "    plt.ylabel('Frequency', fontsize=15)\n",
    "    plt.legend()\n",
    "    plt.tight_layout()\n",
    "    plt.show()"
   ]
  },
  {
   "cell_type": "code",
   "execution_count": 428,
   "metadata": {
    "scrolled": false
   },
   "outputs": [
    {
     "data": {
      "image/png": "[encoded data removed]",
      "text/plain": [
       "<Figure size 1080x432 with 1 Axes>"
      ]
     },
     "metadata": {
      "needs_background": "light"
     },
     "output_type": "display_data"
    }
   ],
   "source": [
    "# Plot the distributions with means\n",
    "compare_2_distributions_vis(no_discount, discount)"
   ]
  },
  {
   "cell_type": "markdown",
   "metadata": {},
   "source": [
    "### Check for Normality Assumption"
   ]
  },
  {
   "cell_type": "code",
   "execution_count": 429,
   "metadata": {
    "scrolled": true
   },
   "outputs": [
    {
     "data": {
      "image/png": "[encoded data removed]",
      "text/plain": [
       "<Figure size 432x288 with 1 Axes>"
      ]
     },
     "metadata": {
      "needs_background": "light"
     },
     "output_type": "display_data"
    }
   ],
   "source": [
    "# Investigate the normality of the two distributions with probability plots\n",
    "stats.probplot(no_discount, plot = plt), stats.probplot(discount, plot = plt)\n",
    "plt.show()"
   ]
  },
  {
   "cell_type": "markdown",
   "metadata": {},
   "source": [
    "### Check for Equal Variance Assumption"
   ]
  },
  {
   "cell_type": "code",
   "execution_count": 430,
   "metadata": {},
   "outputs": [
    {
     "name": "stdout",
     "output_type": "stream",
     "text": [
      "The ratio of the standard deviations of our two samples is 1.1861736681024289\n",
      "If the ratio is between 0.8 and 1.2 we are in line with the assumptions of our test\n"
     ]
    }
   ],
   "source": [
    "# Compute the ratio of Standard Deviations \n",
    "ratio = np.std(discount)/np.std(no_discount)\n",
    "print('The ratio of the standard deviations of our two samples is {}'.format(ratio))\n",
    "print('If the ratio is between 0.8 and 1.2 we are in line with the assumptions of our test')"
   ]
  },
  {
   "cell_type": "markdown",
   "metadata": {},
   "source": [
    "## Observations from EDA: Test choice for Hypothesis testing\n",
    "* There appears to be a measurable difference in mean quantity for orders that are Discounted vs Non-Discounted orders\n",
    "* The average quantity per order for Discounted orders is 27.1\n",
    "* The average quantity per order for Non-Discounted orders is 21.7\n",
    "* Our distributions are not completely normally distributed. Due to our large sample sizes this will not adversely affect our t-test\n",
    "* The ratio of the standard deviations is within range acceptable for a two sample t-test. However it is close to the upper limit\n",
    "* I will use a two sample t-test with unequal variance (Welch's t-test) to account for this.\n",
    "* The diiference in means appears to be larger for discounted orders.  I will use a one-tailed hypothesis test to test this observation\n"
   ]
  },
  {
   "cell_type": "markdown",
   "metadata": {},
   "source": [
    "## Question # 1: Hypothesis # 1\n",
    "- $H_0$: Mean of Discounted orders <= Mean Non-Discounted orders\n",
    "- $H_\\alpha$: Mean of Discounted orders > Mean Non-Discounted orders\n",
    "- $\\alpha$ = 0.05"
   ]
  },
  {
   "cell_type": "markdown",
   "metadata": {},
   "source": [
    "## Welch's Two Sample T-test with unequal variance "
   ]
  },
  {
   "cell_type": "code",
   "execution_count": 431,
   "metadata": {},
   "outputs": [
    {
     "name": "stdout",
     "output_type": "stream",
     "text": [
      "p-value is 2.828207145152165e-10\n",
      "p-value is less than 0.05 we can reject the null hypothesis\n"
     ]
    }
   ],
   "source": [
    "# Testing Hypothesis # 1\n",
    "tval, pval = stats.ttest_ind(no_discount, discount, equal_var=False)\n",
    "print(\"p-value is {}\".format(pval/2))\n",
    "print(\"p-value is less than 0.05 we can reject the null hypothesis\")"
   ]
  },
  {
   "cell_type": "markdown",
   "metadata": {},
   "source": [
    "### Calculating effect size with the Cohen's d statistic"
   ]
  },
  {
   "cell_type": "code",
   "execution_count": 432,
   "metadata": {},
   "outputs": [],
   "source": [
    "def cohen_d(group1, group2):\n",
    "    \"\"\" Calculates the Cohen's d statistic as a measure of effect size\"\"\"\n",
    "\n",
    "    diff = group1.mean() - group2.mean()\n",
    "    n1, n2 = len(group1), len(group2)\n",
    "    var1 = group1.var()\n",
    "    var2 = group2.var()\n",
    "    # Calculate the pooled threshold as shown earlier\n",
    "    pooled_var = (n1 * var1 + n2 * var2) / (n1 + n2)\n",
    "    # Calculate Cohen's d statistic\n",
    "    d = diff / np.sqrt(pooled_var)\n",
    "    return abs(d)"
   ]
  },
  {
   "cell_type": "code",
   "execution_count": 433,
   "metadata": {},
   "outputs": [
    {
     "data": {
      "text/plain": [
       "0.2862724481729283"
      ]
     },
     "execution_count": 433,
     "metadata": {},
     "output_type": "execute_result"
    }
   ],
   "source": [
    "cohen_d(no_discount, discount)"
   ]
  },
  {
   "cell_type": "markdown",
   "metadata": {},
   "source": [
    "### Visualize The PDF T-Distribution"
   ]
  },
  {
   "cell_type": "code",
   "execution_count": 434,
   "metadata": {},
   "outputs": [
    {
     "data": {
      "image/png": "[encoded data removed]",
      "text/plain": [
       "<Figure size 792x360 with 1 Axes>"
      ]
     },
     "metadata": {
      "needs_background": "light"
     },
     "output_type": "display_data"
    }
   ],
   "source": [
    "# Visualize t and p_value For a One-tailed test\n",
    "\n",
    "def visualize_t(t_stat, n_control, n_experimental):\n",
    "    \"\"\"Function to visualize the PDF T-Distribution\"\"\"\n",
    "\n",
    "    # initialize a matplotlib \"figure\"\n",
    "    plt.figure(figsize=(11,5))\n",
    "\n",
    "    # generate points on the x axis between -4 and 4:\n",
    "    xs = np.linspace(-4, 4, 500)\n",
    " \n",
    "    # use stats.t.pdf to get values on the probability density function for the t-distribution\n",
    "    dof = (n_control + n_experimental) - 2\n",
    "    ys = stats.t.pdf(xs, dof, 0, 1)\n",
    "    # Draw one sided boundary for critical-t\n",
    "    t_crit = stats.t.ppf(.95, ((n_control +n_experimental)-2))\n",
    "    plt.plot(xs, ys, label=\"Probabilty Density Function\")\n",
    "    plt.axvline(t_crit, color='K', linestyle='--', label='T-critical')\n",
    "    plt.axvline(abs(t_stat), color='r', linestyle='--', label='T-statistic')\n",
    "    plt.title('Probability Density T-Distribution', fontsize= 15)\n",
    "    plt.xlabel('Distibution', fontsize=12)\n",
    "    plt.ylabel('Probability', fontsize=12)\n",
    "    plt.legend()\n",
    "    plt.tight_layout()\n",
    "    plt.show()\n",
    "\n",
    "    return None\n",
    "\n",
    "n_control = len(no_discount)\n",
    "n_experimental = len(discount)\n",
    "visualize_t(tval, n_control, n_experimental)"
   ]
  },
  {
   "cell_type": "markdown",
   "metadata": {},
   "source": [
    "# Question # 1: Conclusions\n",
    "* After exploring the Data a difference in the average size of Discounted vs Non-Discounted orders was noticed\n",
    "* The data was explored to identify the most appropriate hypothesis testing method to test this difference\n",
    "* The data was well suited for a two sample t-test with unequal variance.\n",
    "* Our test indicated that the p-value was much less than .05 and we could reject the null hypothesis with a high degree of confidence\n",
    "* Post hoc analysis seems to confirm this result\n",
    "* One suprising observation was the Cohen's d statistic. The value was small indicating a small effect size even though our p-value was extremely small.  This is probably due to our large sample size.  Even though the overall effect was relatively small, due to the large sample size, the difference was still statistically significant.\n",
    "* This gets to the point of properly interpreting p-values and the Cohen's d statistic.  One does not imply the other.  You can have a small effect size and still have very low p-values and high degree of statistical significance.  You are very confident this difference did not happen by chance (as incicated by your p-value).  The difference we measured is still statisticaly significant but the overall difference between the two sample is relatively small as shown by the Cohen's d statistic."
   ]
  },
  {
   "cell_type": "markdown",
   "metadata": {},
   "source": [
    "# Question # 1 B: What levels of discounts are significant compared to No Discount"
   ]
  },
  {
   "cell_type": "markdown",
   "metadata": {},
   "source": [
    "## EDA"
   ]
  },
  {
   "cell_type": "code",
   "execution_count": 435,
   "metadata": {},
   "outputs": [
    {
     "data": {
      "text/plain": [
       "0.00    1317\n",
       "0.05     185\n",
       "0.10     173\n",
       "0.20     161\n",
       "0.15     157\n",
       "0.25     154\n",
       "0.03       3\n",
       "0.02       2\n",
       "0.01       1\n",
       "0.04       1\n",
       "0.06       1\n",
       "Name: Discount, dtype: int64"
      ]
     },
     "execution_count": 435,
     "metadata": {},
     "output_type": "execute_result"
    }
   ],
   "source": [
    "# Explore the number of sales in each discount Category\n",
    "df_orderdetail.Discount.value_counts()"
   ]
  },
  {
   "cell_type": "markdown",
   "metadata": {},
   "source": [
    "### The sample size for discount levels [1%, 2%, 3%, 4%, 6%] are too low to be included in our hypothesis testing"
   ]
  },
  {
   "cell_type": "code",
   "execution_count": 436,
   "metadata": {},
   "outputs": [
    {
     "data": {
      "text/plain": [
       "0.00    1317\n",
       "0.05     185\n",
       "0.10     173\n",
       "0.20     161\n",
       "0.15     157\n",
       "0.25     154\n",
       "Name: Discount, dtype: int64"
      ]
     },
     "execution_count": 436,
     "metadata": {},
     "output_type": "execute_result"
    }
   ],
   "source": [
    "# Create a new DataFrame including discount levels with large enough sample sizes to be included in our analysis\n",
    "a = [0.00, 0.05, 0.10, 0.15, 0.20, 0.25]\n",
    "df_new = df_orderdetail[df_orderdetail.Discount.isin(a)]\n",
    "df_new.Discount.value_counts()"
   ]
  },
  {
   "cell_type": "code",
   "execution_count": 437,
   "metadata": {},
   "outputs": [
    {
     "data": {
      "image/png": "[encoded data removed]",
      "text/plain": [
       "<Figure size 1080x432 with 1 Axes>"
      ]
     },
     "metadata": {
      "needs_background": "light"
     },
     "output_type": "display_data"
    }
   ],
   "source": [
    "# Plot the Dicount Level Distributions\n",
    "df_new.groupby('Discount')['Quantity'].hist(figsize=(15, 6), bins=30, grid=False)\n",
    "plt.title('Dicount Level Distributions', fontsize=18)\n",
    "plt.show()"
   ]
  },
  {
   "cell_type": "markdown",
   "metadata": {},
   "source": [
    "### Normality:  It appears that our distributions are \"normally enough\" distributed.  Our large relative sample sizes will also relax this condition"
   ]
  },
  {
   "cell_type": "code",
   "execution_count": 438,
   "metadata": {},
   "outputs": [
    {
     "data": {
      "text/html": [
       "<div>\n",
       "<style scoped>\n",
       "    .dataframe tbody tr th:only-of-type {\n",
       "        vertical-align: middle;\n",
       "    }\n",
       "\n",
       "    .dataframe tbody tr th {\n",
       "        vertical-align: top;\n",
       "    }\n",
       "\n",
       "    .dataframe thead th {\n",
       "        text-align: right;\n",
       "    }\n",
       "</style>\n",
       "<table border=\"1\" class=\"dataframe\">\n",
       "  <thead>\n",
       "    <tr style=\"text-align: right;\">\n",
       "      <th></th>\n",
       "      <th>count</th>\n",
       "      <th>mean</th>\n",
       "      <th>std</th>\n",
       "      <th>min</th>\n",
       "      <th>25%</th>\n",
       "      <th>50%</th>\n",
       "      <th>75%</th>\n",
       "      <th>max</th>\n",
       "    </tr>\n",
       "    <tr>\n",
       "      <th>Discount</th>\n",
       "      <th></th>\n",
       "      <th></th>\n",
       "      <th></th>\n",
       "      <th></th>\n",
       "      <th></th>\n",
       "      <th></th>\n",
       "      <th></th>\n",
       "      <th></th>\n",
       "    </tr>\n",
       "  </thead>\n",
       "  <tbody>\n",
       "    <tr>\n",
       "      <th>0.00</th>\n",
       "      <td>1317.0</td>\n",
       "      <td>21.715262</td>\n",
       "      <td>17.507493</td>\n",
       "      <td>1.0</td>\n",
       "      <td>10.0</td>\n",
       "      <td>18.0</td>\n",
       "      <td>30.0</td>\n",
       "      <td>130.0</td>\n",
       "    </tr>\n",
       "    <tr>\n",
       "      <th>0.05</th>\n",
       "      <td>185.0</td>\n",
       "      <td>28.010811</td>\n",
       "      <td>22.187685</td>\n",
       "      <td>1.0</td>\n",
       "      <td>14.0</td>\n",
       "      <td>20.0</td>\n",
       "      <td>40.0</td>\n",
       "      <td>120.0</td>\n",
       "    </tr>\n",
       "    <tr>\n",
       "      <th>0.10</th>\n",
       "      <td>173.0</td>\n",
       "      <td>25.236994</td>\n",
       "      <td>21.186503</td>\n",
       "      <td>2.0</td>\n",
       "      <td>10.0</td>\n",
       "      <td>20.0</td>\n",
       "      <td>30.0</td>\n",
       "      <td>130.0</td>\n",
       "    </tr>\n",
       "    <tr>\n",
       "      <th>0.15</th>\n",
       "      <td>157.0</td>\n",
       "      <td>28.382166</td>\n",
       "      <td>20.923099</td>\n",
       "      <td>2.0</td>\n",
       "      <td>15.0</td>\n",
       "      <td>21.0</td>\n",
       "      <td>40.0</td>\n",
       "      <td>100.0</td>\n",
       "    </tr>\n",
       "    <tr>\n",
       "      <th>0.20</th>\n",
       "      <td>161.0</td>\n",
       "      <td>27.024845</td>\n",
       "      <td>18.832801</td>\n",
       "      <td>2.0</td>\n",
       "      <td>12.0</td>\n",
       "      <td>21.0</td>\n",
       "      <td>40.0</td>\n",
       "      <td>100.0</td>\n",
       "    </tr>\n",
       "    <tr>\n",
       "      <th>0.25</th>\n",
       "      <td>154.0</td>\n",
       "      <td>28.240260</td>\n",
       "      <td>20.120570</td>\n",
       "      <td>2.0</td>\n",
       "      <td>15.0</td>\n",
       "      <td>25.0</td>\n",
       "      <td>36.0</td>\n",
       "      <td>120.0</td>\n",
       "    </tr>\n",
       "  </tbody>\n",
       "</table>\n",
       "</div>"
      ],
      "text/plain": [
       "           count       mean        std  min   25%   50%   75%    max\n",
       "Discount                                                            \n",
       "0.00      1317.0  21.715262  17.507493  1.0  10.0  18.0  30.0  130.0\n",
       "0.05       185.0  28.010811  22.187685  1.0  14.0  20.0  40.0  120.0\n",
       "0.10       173.0  25.236994  21.186503  2.0  10.0  20.0  30.0  130.0\n",
       "0.15       157.0  28.382166  20.923099  2.0  15.0  21.0  40.0  100.0\n",
       "0.20       161.0  27.024845  18.832801  2.0  12.0  21.0  40.0  100.0\n",
       "0.25       154.0  28.240260  20.120570  2.0  15.0  25.0  36.0  120.0"
      ]
     },
     "execution_count": 438,
     "metadata": {},
     "output_type": "execute_result"
    }
   ],
   "source": [
    "# Show the 5 point statistics for each dicount category\n",
    "df_new.groupby('Discount')['Quantity'].describe()"
   ]
  },
  {
   "cell_type": "markdown",
   "metadata": {},
   "source": [
    "### Variance:  Looking at the STD as a proxy for variance.  The ratio of the std's with the largest spread is 1.26.  All others fall within the the acceptable range of 0.8 to 1.2.  This should not be an issue.  Our plan is to do multiple comparisons with the Tukey's HSD test.  This is a more robust test with included corrective measures."
   ]
  },
  {
   "cell_type": "markdown",
   "metadata": {},
   "source": [
    "## Question # 1 B: Hypothesis # 1 B\n",
    "- $H_0$: Mean of each goup comapred: $\\mu_1$ = $\\mu_2$\n",
    "- $H_\\alpha$: Mean of each goup comapred: $\\mu_1$ $\\neq$ $\\mu_2$\n",
    "- $\\alpha$ = 0.05"
   ]
  },
  {
   "cell_type": "code",
   "execution_count": 439,
   "metadata": {},
   "outputs": [
    {
     "name": "stdout",
     "output_type": "stream",
     "text": [
      "Multiple Comparison of Means - Tukey HSD,FWER=0.05\n",
      "=============================================\n",
      "group1 group2 meandiff  lower   upper  reject\n",
      "---------------------------------------------\n",
      " 0.0    0.05   6.2955   2.0814 10.5097  True \n",
      " 0.0    0.1    3.5217  -0.8187  7.8622 False \n",
      " 0.0    0.15   6.6669   2.1352 11.1986  True \n",
      " 0.0    0.2    5.3096   0.8285  9.7907  True \n",
      " 0.0    0.25   6.525    1.954   11.096  True \n",
      " 0.05   0.1   -2.7738  -8.4504  2.9028 False \n",
      " 0.05   0.15   0.3714  -5.4528  6.1955 False \n",
      " 0.05   0.2    -0.986  -6.7708  4.7989 False \n",
      " 0.05   0.25   0.2294  -5.6253  6.0842 False \n",
      " 0.1    0.15   3.1452   -2.771  9.0613 False \n",
      " 0.1    0.2    1.7879  -4.0896  7.6653 False \n",
      " 0.1    0.25   3.0033   -2.943  8.9496 False \n",
      " 0.15   0.2   -1.3573  -7.3775  4.6628 False \n",
      " 0.15   0.25  -0.1419  -6.2292  5.9454 False \n",
      " 0.2    0.25   1.2154  -4.8343  7.2652 False \n",
      "---------------------------------------------\n"
     ]
    }
   ],
   "source": [
    "# Set up and print results for Tukey's pairwise comaprison\n",
    "results = pairwise_tukeyhsd(df_new.Quantity, df_new.Discount, 0.05)\n",
    "print(results)"
   ]
  },
  {
   "cell_type": "markdown",
   "metadata": {},
   "source": [
    "## Question # 1 B: Results and Conclusions\n",
    "* The null hypothesis can be rejected for all discont levels other than 10%. When compared to the control group no-discount.\n",
    "* We failed to reject the null hypothesis at a discount level of 10%\n",
    "* Discount levels of 5%, 15%, 20%, and 25% all showed statistically significant differences in order quantity\n",
    "* This hypothesis test was set up as two tailed test.  However inspection of the means shows that the mean for discounted order quantities is greater than that for the non discounted group\n",
    "* It can be infered (not proven) that the statistically significant differences seen in this test indicate higher order quantities for the discount levels where the null hypothesis was rejected."
   ]
  },
  {
   "cell_type": "markdown",
   "metadata": {},
   "source": [
    "# Business Insight from Question # 1 Hypothesis Testing\n",
    "* It was shown that offering discounts has a positive effect on the Quantity of items ordered. This can be an important factor in boosting sales\n",
    "* The mean order quantity was 21.7 for non-discounted goods \n",
    "* Interestingly the highest mean order quantities were for orders discounted at 5%, 15% and 25%. They were 28.0, 28.4 and 28.2 respectively\n",
    "* This indicates that even at lower rates of discounts higher order rates were still observed.\n",
    "* This lends itself to further investigation.  Experimentation to find the lowest discount rate that still maintains the observed increase in order quantities could certainly improve the bottom line.\n",
    "* Also interesting was the fact that a discount rate of 10% did not show statistical significance.  The mean was higher than non-discounted orders.  Yet not enough to be statistically significant.\n",
    "* Offering discounts was shown to increase Order quantities.  Increasing sample size to hone in on the lowest discount that still maintains this trend will be important for increasing sales and revenue. \n"
   ]
  },
  {
   "cell_type": "markdown",
   "metadata": {},
   "source": [
    "# Question # 2: Investigating the Revenue Generated from the Different Regions Northwind Serves "
   ]
  },
  {
   "cell_type": "markdown",
   "metadata": {},
   "source": [
    "## Gathering The Data"
   ]
  },
  {
   "cell_type": "markdown",
   "metadata": {},
   "source": [
    "### The information needed can be found in the Order, OrderDetail and Customer tables from the database"
   ]
  },
  {
   "cell_type": "code",
   "execution_count": 440,
   "metadata": {},
   "outputs": [
    {
     "name": "stdout",
     "output_type": "stream",
     "text": [
      "2019-06-15 20:10:03,521 INFO sqlalchemy.engine.base.Engine \n",
      " SELECT c.Region, od.OrderId, od.Quantity, od.UnitPrice, od.Discount\n",
      " FROM Customer c\n",
      " JOIN [Order] o ON c.Id = o.CustomerId\n",
      " JOIN OrderDetail od ON od.OrderId = o.Id\n",
      " \n",
      "2019-06-15 20:10:03,524 INFO sqlalchemy.engine.base.Engine ()\n"
     ]
    }
   ],
   "source": [
    "# SQL query joining the Order, OrderDetail and Customer tables to retrieve the data wee need\n",
    "df_region_revenue = pd.read_sql_query('''\n",
    " SELECT c.Region, od.OrderId, od.Quantity, od.UnitPrice, od.Discount\n",
    " FROM Customer c\n",
    " JOIN [Order] o ON c.Id = o.CustomerId\n",
    " JOIN OrderDetail od ON od.OrderId = o.Id\n",
    " ''', engine)"
   ]
  },
  {
   "cell_type": "markdown",
   "metadata": {},
   "source": [
    "## EDA"
   ]
  },
  {
   "cell_type": "code",
   "execution_count": 441,
   "metadata": {},
   "outputs": [
    {
     "data": {
      "text/html": [
       "<div>\n",
       "<style scoped>\n",
       "    .dataframe tbody tr th:only-of-type {\n",
       "        vertical-align: middle;\n",
       "    }\n",
       "\n",
       "    .dataframe tbody tr th {\n",
       "        vertical-align: top;\n",
       "    }\n",
       "\n",
       "    .dataframe thead th {\n",
       "        text-align: right;\n",
       "    }\n",
       "</style>\n",
       "<table border=\"1\" class=\"dataframe\">\n",
       "  <thead>\n",
       "    <tr style=\"text-align: right;\">\n",
       "      <th></th>\n",
       "      <th>Region</th>\n",
       "      <th>OrderId</th>\n",
       "      <th>Quantity</th>\n",
       "      <th>UnitPrice</th>\n",
       "      <th>Discount</th>\n",
       "    </tr>\n",
       "  </thead>\n",
       "  <tbody>\n",
       "    <tr>\n",
       "      <th>0</th>\n",
       "      <td>Western Europe</td>\n",
       "      <td>10248</td>\n",
       "      <td>12</td>\n",
       "      <td>14.0</td>\n",
       "      <td>0.0</td>\n",
       "    </tr>\n",
       "    <tr>\n",
       "      <th>1</th>\n",
       "      <td>Western Europe</td>\n",
       "      <td>10248</td>\n",
       "      <td>10</td>\n",
       "      <td>9.8</td>\n",
       "      <td>0.0</td>\n",
       "    </tr>\n",
       "    <tr>\n",
       "      <th>2</th>\n",
       "      <td>Western Europe</td>\n",
       "      <td>10248</td>\n",
       "      <td>5</td>\n",
       "      <td>34.8</td>\n",
       "      <td>0.0</td>\n",
       "    </tr>\n",
       "    <tr>\n",
       "      <th>3</th>\n",
       "      <td>Western Europe</td>\n",
       "      <td>10249</td>\n",
       "      <td>9</td>\n",
       "      <td>18.6</td>\n",
       "      <td>0.0</td>\n",
       "    </tr>\n",
       "    <tr>\n",
       "      <th>4</th>\n",
       "      <td>Western Europe</td>\n",
       "      <td>10249</td>\n",
       "      <td>40</td>\n",
       "      <td>42.4</td>\n",
       "      <td>0.0</td>\n",
       "    </tr>\n",
       "  </tbody>\n",
       "</table>\n",
       "</div>"
      ],
      "text/plain": [
       "           Region  OrderId  Quantity  UnitPrice  Discount\n",
       "0  Western Europe    10248        12       14.0       0.0\n",
       "1  Western Europe    10248        10        9.8       0.0\n",
       "2  Western Europe    10248         5       34.8       0.0\n",
       "3  Western Europe    10249         9       18.6       0.0\n",
       "4  Western Europe    10249        40       42.4       0.0"
      ]
     },
     "execution_count": 441,
     "metadata": {},
     "output_type": "execute_result"
    }
   ],
   "source": [
    "# View the DataFrame\n",
    "df_region_revenue.head()"
   ]
  },
  {
   "cell_type": "markdown",
   "metadata": {},
   "source": [
    "### Create a column for Order amount taking in to account Quantity, Unit Price and Discount"
   ]
  },
  {
   "cell_type": "code",
   "execution_count": 442,
   "metadata": {},
   "outputs": [
    {
     "data": {
      "text/html": [
       "<div>\n",
       "<style scoped>\n",
       "    .dataframe tbody tr th:only-of-type {\n",
       "        vertical-align: middle;\n",
       "    }\n",
       "\n",
       "    .dataframe tbody tr th {\n",
       "        vertical-align: top;\n",
       "    }\n",
       "\n",
       "    .dataframe thead th {\n",
       "        text-align: right;\n",
       "    }\n",
       "</style>\n",
       "<table border=\"1\" class=\"dataframe\">\n",
       "  <thead>\n",
       "    <tr style=\"text-align: right;\">\n",
       "      <th></th>\n",
       "      <th>Region</th>\n",
       "      <th>OrderId</th>\n",
       "      <th>Quantity</th>\n",
       "      <th>UnitPrice</th>\n",
       "      <th>Discount</th>\n",
       "      <th>order_amount</th>\n",
       "    </tr>\n",
       "  </thead>\n",
       "  <tbody>\n",
       "    <tr>\n",
       "      <th>0</th>\n",
       "      <td>Western Europe</td>\n",
       "      <td>10248</td>\n",
       "      <td>12</td>\n",
       "      <td>14.0</td>\n",
       "      <td>0.0</td>\n",
       "      <td>168.0</td>\n",
       "    </tr>\n",
       "    <tr>\n",
       "      <th>1</th>\n",
       "      <td>Western Europe</td>\n",
       "      <td>10248</td>\n",
       "      <td>10</td>\n",
       "      <td>9.8</td>\n",
       "      <td>0.0</td>\n",
       "      <td>98.0</td>\n",
       "    </tr>\n",
       "    <tr>\n",
       "      <th>2</th>\n",
       "      <td>Western Europe</td>\n",
       "      <td>10248</td>\n",
       "      <td>5</td>\n",
       "      <td>34.8</td>\n",
       "      <td>0.0</td>\n",
       "      <td>174.0</td>\n",
       "    </tr>\n",
       "    <tr>\n",
       "      <th>3</th>\n",
       "      <td>Western Europe</td>\n",
       "      <td>10249</td>\n",
       "      <td>9</td>\n",
       "      <td>18.6</td>\n",
       "      <td>0.0</td>\n",
       "      <td>167.4</td>\n",
       "    </tr>\n",
       "    <tr>\n",
       "      <th>4</th>\n",
       "      <td>Western Europe</td>\n",
       "      <td>10249</td>\n",
       "      <td>40</td>\n",
       "      <td>42.4</td>\n",
       "      <td>0.0</td>\n",
       "      <td>1696.0</td>\n",
       "    </tr>\n",
       "  </tbody>\n",
       "</table>\n",
       "</div>"
      ],
      "text/plain": [
       "           Region  OrderId  Quantity  UnitPrice  Discount  order_amount\n",
       "0  Western Europe    10248        12       14.0       0.0         168.0\n",
       "1  Western Europe    10248        10        9.8       0.0          98.0\n",
       "2  Western Europe    10248         5       34.8       0.0         174.0\n",
       "3  Western Europe    10249         9       18.6       0.0         167.4\n",
       "4  Western Europe    10249        40       42.4       0.0        1696.0"
      ]
     },
     "execution_count": 442,
     "metadata": {},
     "output_type": "execute_result"
    }
   ],
   "source": [
    "# Create a column for Order amount or revenue by multiplying Quantity * Unit Price * (1-discount rate)\n",
    "df_region_revenue[\"order_amount\"] = df_region_revenue['Quantity'] * df_region_revenue[\"UnitPrice\"] * (1 -df_region_revenue[\"Discount\"])\n",
    "df_region_revenue.head()"
   ]
  },
  {
   "cell_type": "markdown",
   "metadata": {},
   "source": [
    "### We can scale down our dataframe to include the colums we are interested in Region and Order Amount"
   ]
  },
  {
   "cell_type": "code",
   "execution_count": 443,
   "metadata": {},
   "outputs": [
    {
     "data": {
      "text/html": [
       "<div>\n",
       "<style scoped>\n",
       "    .dataframe tbody tr th:only-of-type {\n",
       "        vertical-align: middle;\n",
       "    }\n",
       "\n",
       "    .dataframe tbody tr th {\n",
       "        vertical-align: top;\n",
       "    }\n",
       "\n",
       "    .dataframe thead th {\n",
       "        text-align: right;\n",
       "    }\n",
       "</style>\n",
       "<table border=\"1\" class=\"dataframe\">\n",
       "  <thead>\n",
       "    <tr style=\"text-align: right;\">\n",
       "      <th></th>\n",
       "      <th>Region</th>\n",
       "      <th>order_amount</th>\n",
       "    </tr>\n",
       "  </thead>\n",
       "  <tbody>\n",
       "    <tr>\n",
       "      <th>0</th>\n",
       "      <td>Western Europe</td>\n",
       "      <td>168.0</td>\n",
       "    </tr>\n",
       "    <tr>\n",
       "      <th>1</th>\n",
       "      <td>Western Europe</td>\n",
       "      <td>98.0</td>\n",
       "    </tr>\n",
       "    <tr>\n",
       "      <th>2</th>\n",
       "      <td>Western Europe</td>\n",
       "      <td>174.0</td>\n",
       "    </tr>\n",
       "    <tr>\n",
       "      <th>3</th>\n",
       "      <td>Western Europe</td>\n",
       "      <td>167.4</td>\n",
       "    </tr>\n",
       "    <tr>\n",
       "      <th>4</th>\n",
       "      <td>Western Europe</td>\n",
       "      <td>1696.0</td>\n",
       "    </tr>\n",
       "  </tbody>\n",
       "</table>\n",
       "</div>"
      ],
      "text/plain": [
       "           Region  order_amount\n",
       "0  Western Europe         168.0\n",
       "1  Western Europe          98.0\n",
       "2  Western Europe         174.0\n",
       "3  Western Europe         167.4\n",
       "4  Western Europe        1696.0"
      ]
     },
     "execution_count": 443,
     "metadata": {},
     "output_type": "execute_result"
    }
   ],
   "source": [
    "#Now that I have calculated total order amounts I can remove the columns I no longer need\n",
    "df_r_r = df_region_revenue.drop(['OrderId', 'Quantity', 'UnitPrice', 'Discount'], axis = 1)\n",
    "df_r_r.head()"
   ]
  },
  {
   "cell_type": "code",
   "execution_count": 444,
   "metadata": {},
   "outputs": [
    {
     "data": {
      "image/png": "[encoded data removed]",
      "text/plain": [
       "<Figure size 864x360 with 1 Axes>"
      ]
     },
     "metadata": {
      "needs_background": "light"
     },
     "output_type": "display_data"
    },
    {
     "data": {
      "image/png": "[encoded data removed]",
      "text/plain": [
       "<Figure size 864x360 with 1 Axes>"
      ]
     },
     "metadata": {
      "needs_background": "light"
     },
     "output_type": "display_data"
    }
   ],
   "source": [
    "# Visualize Mean Oreder Amount and Total Revenue per Region\n",
    "df_r_r.groupby('Region')['order_amount'].mean().plot(kind='bar', color=[\"b\", 'c', 'm'], figsize=(12,5))\n",
    "plt.title(\"Mean Order Amount\", fontsize=18)\n",
    "plt.show()\n",
    "df_r_r.groupby('Region')['order_amount'].sum().plot(kind='bar', color=[\"b\", 'c', 'm'], figsize=(12,5))\n",
    "plt.title(\" Total Revenue per Region\", fontsize=18)\n",
    "plt.show()"
   ]
  },
  {
   "cell_type": "code",
   "execution_count": 445,
   "metadata": {},
   "outputs": [
    {
     "data": {
      "text/html": [
       "<div>\n",
       "<style scoped>\n",
       "    .dataframe tbody tr th:only-of-type {\n",
       "        vertical-align: middle;\n",
       "    }\n",
       "\n",
       "    .dataframe tbody tr th {\n",
       "        vertical-align: top;\n",
       "    }\n",
       "\n",
       "    .dataframe thead th {\n",
       "        text-align: right;\n",
       "    }\n",
       "</style>\n",
       "<table border=\"1\" class=\"dataframe\">\n",
       "  <thead>\n",
       "    <tr style=\"text-align: right;\">\n",
       "      <th></th>\n",
       "      <th>count</th>\n",
       "      <th>mean</th>\n",
       "      <th>std</th>\n",
       "      <th>min</th>\n",
       "      <th>25%</th>\n",
       "      <th>50%</th>\n",
       "      <th>75%</th>\n",
       "      <th>max</th>\n",
       "    </tr>\n",
       "    <tr>\n",
       "      <th>Region</th>\n",
       "      <th></th>\n",
       "      <th></th>\n",
       "      <th></th>\n",
       "      <th></th>\n",
       "      <th></th>\n",
       "      <th></th>\n",
       "      <th></th>\n",
       "      <th></th>\n",
       "    </tr>\n",
       "  </thead>\n",
       "  <tbody>\n",
       "    <tr>\n",
       "      <th>British Isles</th>\n",
       "      <td>190.0</td>\n",
       "      <td>573.427447</td>\n",
       "      <td>944.869689</td>\n",
       "      <td>4.80</td>\n",
       "      <td>144.7200</td>\n",
       "      <td>354.500</td>\n",
       "      <td>660.0000</td>\n",
       "      <td>9903.2</td>\n",
       "    </tr>\n",
       "    <tr>\n",
       "      <th>Central America</th>\n",
       "      <td>55.0</td>\n",
       "      <td>301.056364</td>\n",
       "      <td>539.362443</td>\n",
       "      <td>20.80</td>\n",
       "      <td>67.0750</td>\n",
       "      <td>196.800</td>\n",
       "      <td>366.0000</td>\n",
       "      <td>3952.5</td>\n",
       "    </tr>\n",
       "    <tr>\n",
       "      <th>Eastern Europe</th>\n",
       "      <td>16.0</td>\n",
       "      <td>220.746875</td>\n",
       "      <td>163.075679</td>\n",
       "      <td>22.35</td>\n",
       "      <td>107.5000</td>\n",
       "      <td>190.000</td>\n",
       "      <td>249.3750</td>\n",
       "      <td>591.6</td>\n",
       "    </tr>\n",
       "    <tr>\n",
       "      <th>North America</th>\n",
       "      <td>427.0</td>\n",
       "      <td>692.695317</td>\n",
       "      <td>1092.962510</td>\n",
       "      <td>14.00</td>\n",
       "      <td>147.9000</td>\n",
       "      <td>379.950</td>\n",
       "      <td>775.7375</td>\n",
       "      <td>10540.0</td>\n",
       "    </tr>\n",
       "    <tr>\n",
       "      <th>Northern Europe</th>\n",
       "      <td>143.0</td>\n",
       "      <td>609.483654</td>\n",
       "      <td>1073.633574</td>\n",
       "      <td>14.40</td>\n",
       "      <td>182.4375</td>\n",
       "      <td>300.000</td>\n",
       "      <td>606.0000</td>\n",
       "      <td>10540.0</td>\n",
       "    </tr>\n",
       "    <tr>\n",
       "      <th>Scandinavia</th>\n",
       "      <td>70.0</td>\n",
       "      <td>350.645750</td>\n",
       "      <td>353.425343</td>\n",
       "      <td>17.88</td>\n",
       "      <td>126.0000</td>\n",
       "      <td>259.875</td>\n",
       "      <td>445.5000</td>\n",
       "      <td>2108.0</td>\n",
       "    </tr>\n",
       "    <tr>\n",
       "      <th>South America</th>\n",
       "      <td>304.0</td>\n",
       "      <td>469.334895</td>\n",
       "      <td>979.863294</td>\n",
       "      <td>8.64</td>\n",
       "      <td>137.2875</td>\n",
       "      <td>288.750</td>\n",
       "      <td>524.7480</td>\n",
       "      <td>15810.0</td>\n",
       "    </tr>\n",
       "    <tr>\n",
       "      <th>Southern Europe</th>\n",
       "      <td>137.0</td>\n",
       "      <td>330.114726</td>\n",
       "      <td>387.244233</td>\n",
       "      <td>7.30</td>\n",
       "      <td>84.0000</td>\n",
       "      <td>207.000</td>\n",
       "      <td>443.7000</td>\n",
       "      <td>2475.8</td>\n",
       "    </tr>\n",
       "    <tr>\n",
       "      <th>Western Europe</th>\n",
       "      <td>736.0</td>\n",
       "      <td>684.169033</td>\n",
       "      <td>1018.954073</td>\n",
       "      <td>8.50</td>\n",
       "      <td>183.5375</td>\n",
       "      <td>416.120</td>\n",
       "      <td>811.5000</td>\n",
       "      <td>15019.5</td>\n",
       "    </tr>\n",
       "  </tbody>\n",
       "</table>\n",
       "</div>"
      ],
      "text/plain": [
       "                 count        mean          std    min       25%      50%  \\\n",
       "Region                                                                      \n",
       "British Isles    190.0  573.427447   944.869689   4.80  144.7200  354.500   \n",
       "Central America   55.0  301.056364   539.362443  20.80   67.0750  196.800   \n",
       "Eastern Europe    16.0  220.746875   163.075679  22.35  107.5000  190.000   \n",
       "North America    427.0  692.695317  1092.962510  14.00  147.9000  379.950   \n",
       "Northern Europe  143.0  609.483654  1073.633574  14.40  182.4375  300.000   \n",
       "Scandinavia       70.0  350.645750   353.425343  17.88  126.0000  259.875   \n",
       "South America    304.0  469.334895   979.863294   8.64  137.2875  288.750   \n",
       "Southern Europe  137.0  330.114726   387.244233   7.30   84.0000  207.000   \n",
       "Western Europe   736.0  684.169033  1018.954073   8.50  183.5375  416.120   \n",
       "\n",
       "                      75%      max  \n",
       "Region                              \n",
       "British Isles    660.0000   9903.2  \n",
       "Central America  366.0000   3952.5  \n",
       "Eastern Europe   249.3750    591.6  \n",
       "North America    775.7375  10540.0  \n",
       "Northern Europe  606.0000  10540.0  \n",
       "Scandinavia      445.5000   2108.0  \n",
       "South America    524.7480  15810.0  \n",
       "Southern Europe  443.7000   2475.8  \n",
       "Western Europe   811.5000  15019.5  "
      ]
     },
     "execution_count": 445,
     "metadata": {},
     "output_type": "execute_result"
    }
   ],
   "source": [
    "# Show the 5 point statistics for each Region\n",
    "df_r_r.groupby('Region')['order_amount'].describe()"
   ]
  },
  {
   "cell_type": "markdown",
   "metadata": {},
   "source": [
    "### Check for normality assumption\n",
    "* It will be difficult to check the normality assumption for each individual group.  I will investigate the two largest contributors North America, Western Europe and Total.\n",
    "* I plan to use Tukey's pairwise HSD. This will take care of some the heavy lifting for us.  \n",
    "* As can be seen from the summary statistics the groups from similar size and contribution have similar std and summary statistics.\n",
    "* The Tukey’s test will compare pairwise.  It will compare the smaller groups with similar normality and variance to smaller groups.  As will it compare the larger groups with similar properties.\n",
    "* This test is robust and will consider many of these factors for us.  It will take these factors into account and will not reject the null if the two groups differ too greatly. It has this stringency built in.\n",
    "* It is a fair trade off to be able to compare multiple diverse groups.  It will only reject the null in cases of true differences \n"
   ]
  },
  {
   "cell_type": "code",
   "execution_count": 446,
   "metadata": {},
   "outputs": [
    {
     "data": {
      "image/png": "[encoded data removed]",
      "text/plain": [
       "<Figure size 432x288 with 1 Axes>"
      ]
     },
     "metadata": {
      "needs_background": "light"
     },
     "output_type": "display_data"
    }
   ],
   "source": [
    "# Investigate the normality of the two distributions with probability plots\n",
    "stats.probplot(df_r_r[df_r_r.Region == \"Western Europe\"][\"order_amount\"], plot = plt), \n",
    "stats.probplot(df_r_r[df_r_r.Region == \"North America\"][\"order_amount\"], plot = plt),\n",
    "stats.probplot(df_r_r.order_amount, plot = plt)\n",
    "plt.show()"
   ]
  },
  {
   "cell_type": "markdown",
   "metadata": {},
   "source": [
    "### As can be seen our distributions are not perfectly normal\n",
    "* Deviations from normality are more evident at the tails\n",
    "* Due to the sample size of our larger regions these will not greatly affect the results\n",
    "* This is also a good reason to choose Tukey's for our testing method. Descrepancies can be accounted for in pairwise comaprison"
   ]
  },
  {
   "cell_type": "markdown",
   "metadata": {},
   "source": [
    "### Variance:\n",
    "*\tFor similar reasons described above for normality.  The differences in variance will be considered using Tukey’s.\n",
    "*\tFor the three samples plotted above the ratio of the standard deviations is close to 1\n",
    "*\tPairwise comparison will be done for samples with similar variance\n",
    "*\tWhen comparisons are done between samples with variances that differ widely, we expect the test to fail to reject the null hypothesis\n",
    "*\tTukey’s will only reject the null when the comparisons are real and significant\n",
    "*\tThe test has built in stringency measures when comparing small groups to large groups or groups where the underlying assumptions have not been met\n"
   ]
  },
  {
   "cell_type": "markdown",
   "metadata": {},
   "source": [
    "## Question # 2: Hypothesis \n",
    "- $H_0$: Mean of each Region comapred: $\\mu_1$ = $\\mu_2$\n",
    "- $H_\\alpha$: Mean of each Region comapred: $\\mu_1$ $\\neq$ $\\mu_2$\n",
    "- $\\alpha$ = 0.05"
   ]
  },
  {
   "cell_type": "markdown",
   "metadata": {},
   "source": [
    "### Set up Tukey's HSD pairwise comparison for all Regions"
   ]
  },
  {
   "cell_type": "code",
   "execution_count": 447,
   "metadata": {},
   "outputs": [
    {
     "name": "stdout",
     "output_type": "stream",
     "text": [
      "          Multiple Comparison of Means - Tukey HSD,FWER=0.05         \n",
      "=====================================================================\n",
      "     group1          group2      meandiff   lower      upper   reject\n",
      "---------------------------------------------------------------------\n",
      " British Isles  Central America -272.3711 -732.8027   188.0605 False \n",
      " British Isles   Eastern Europe -352.6806 -1135.4558  430.0946 False \n",
      " British Isles   North America   119.2679  -142.968   381.5037 False \n",
      " British Isles  Northern Europe  36.0562  -296.8467   368.9591 False \n",
      " British Isles    Scandinavia   -222.7817 -643.2189   197.6555 False \n",
      " British Isles   South America  -104.0926 -382.1856   174.0005 False \n",
      " British Isles  Southern Europe -243.3127 -580.3493   93.7239  False \n",
      " British Isles   Western Europe  110.7416 -133.9562   355.4394 False \n",
      "Central America  Eastern Europe  -80.3095 -934.4476   773.8286 False \n",
      "Central America  North America   391.639   -39.1539   822.4318 False \n",
      "Central America Northern Europe  308.4273 -168.6882   785.5427 False \n",
      "Central America   Scandinavia    49.5894  -492.2429   591.4217 False \n",
      "Central America  South America   168.2785 -272.3467   608.9037 False \n",
      "Central America Southern Europe  29.0584  -450.9505   509.0672 False \n",
      "Central America  Western Europe  383.1127  -37.2346   803.4599 False \n",
      " Eastern Europe  North America   471.9484 -293.7684  1237.6653 False \n",
      " Eastern Europe Northern Europe  388.7368 -403.9668  1181.4403 False \n",
      " Eastern Europe   Scandinavia    129.8989  -703.361   963.1587 False \n",
      " Eastern Europe  South America   248.588  -522.7033  1019.8794 False \n",
      " Eastern Europe Southern Europe  109.3679 -685.0805   903.8162 False \n",
      " Eastern Europe  Western Europe  463.4222  -296.467  1223.3114 False \n",
      " North America  Northern Europe  -83.2117 -373.7448   207.3215 False \n",
      " North America    Scandinavia   -342.0496 -729.8029   45.7037  False \n",
      " North America   South America  -223.3604 -449.0171    2.2963  False \n",
      " North America  Southern Europe -362.5806 -657.8412   -67.3199  True \n",
      " North America   Western Europe  -8.5263  -191.4531   174.4005 False \n",
      "Northern Europe   Scandinavia   -258.8379 -697.4827   179.8069 False \n",
      "Northern Europe  South America  -140.1488 -445.0711   164.7736 False \n",
      "Northern Europe Southern Europe -279.3689 -638.8624   80.1245  False \n",
      "Northern Europe  Western Europe  74.6854  -200.1216   349.4924 False \n",
      "  Scandinavia    South America   118.6891 -279.9595   517.3377 False \n",
      "  Scandinavia   Southern Europe  -20.531  -462.3213   421.2592 False \n",
      "  Scandinavia    Western Europe  333.5233  -42.591    709.6376 False \n",
      " South America  Southern Europe -139.2202 -448.6502   170.2099 False \n",
      " South America   Western Europe  214.8341   9.8212    419.8471  True \n",
      "Southern Europe  Western Europe  354.0543   74.254    633.8546  True \n",
      "---------------------------------------------------------------------\n"
     ]
    }
   ],
   "source": [
    "# Tukey's pairwise comparison of Order Amounts from each Customer Region\n",
    "results2 = pairwise_tukeyhsd(df_r_r['order_amount'], df_r_r['Region'], 0.05)\n",
    "print(results2)"
   ]
  },
  {
   "cell_type": "markdown",
   "metadata": {},
   "source": [
    "## Question # 2: Results and Conclusions\n",
    "* The null hypothesis was rejected for Western Europe when compared To Southern Europe And South America.\n",
    "* Again, this test is set up as a two tailed test. The mean order amount is greater For Western Europe than either of these regions. This difference can be interpreted that the order amounts are significantly higher than those from Southern Europe and South America. (inferred not proved!)\n",
    "* The null hypothesis was also rejected for North America compared to Southern Europe.  This can also be inferred as positive difference. The mean order amount from North America is higher than that of Southern Europe.  Our test shows that this difference is unlikely from chance alone.\n",
    "* Also, it should be noted that some regions have substantial differences in means.  However, the Tukey's test was unable to reject the null Hypothesis.  This give us evidence of the stringency built into the Tukey's test.  Even though the difference in means was relatively large.  Tukey's failed to reject the null hypothesis.  This is likely because those samples did not fully meet the underlying assumptions and were penalized.  That is the power of this test\n"
   ]
  },
  {
   "cell_type": "markdown",
   "metadata": {},
   "source": [
    "## Business insight from Question 2:\n",
    "* It can be seen from the graphs above that customers in Western Europe are the biggest contributor to Northwind’s Revenue.\n",
    "* It should also be noted that North America, The UK, Northern Europe and South America all have high mean order amounts although they spend less overall than Western Europe.\n",
    "* Perhaps marketing should be increased these four areas.  These areas are already buying products from Northwind in high amounts when they do order.  Increased Marketing could increase the overall number of orders from these areas.\n",
    "* Another Consideration is to do some market research and perhaps introduce more products that are important to people in these regions.\n",
    "* These regions are ordering in quantity when they do place orders. Research and marketing can identify products and strategies to increase the overall revenue from these regions.\n",
    "\n"
   ]
  },
  {
   "cell_type": "markdown",
   "metadata": {},
   "source": [
    "# Question # 3: Split the Northwind customer base into The Americas and Greater Europe To compare spending and revenue from customers on different sides of the globe"
   ]
  },
  {
   "cell_type": "markdown",
   "metadata": {},
   "source": [
    "### Northwind is a global trading company.  Lets investigate closer, the spending habits form customers from different sides of the globe, to see if we can find any insight or differences."
   ]
  },
  {
   "cell_type": "markdown",
   "metadata": {},
   "source": [
    "## Gathering the Data\n",
    "* This is an interesting question that was raised when I pulled the data from the database for the previous question.\n",
    "* I believe it is worth looking into.\n",
    "* We can make some modifications to the datframe we pulled in our previous SQL query to investigate this question\n"
   ]
  },
  {
   "cell_type": "markdown",
   "metadata": {},
   "source": [
    "## Modify and split our previous dataframe. One for the Americas and one for Greater Europe (or everything else)"
   ]
  },
  {
   "cell_type": "code",
   "execution_count": 448,
   "metadata": {},
   "outputs": [],
   "source": [
    "# Create a new DataFrame including discount levels with large enough sample sizes to be included in our analysis\n",
    "b = ['North America', 'South America', 'Central America']\n",
    "df_americas = df_r_r[df_r_r.Region.isin(b)]\n",
    "df_ge = df_r_r[~df_r_r.Region.isin(b)]"
   ]
  },
  {
   "cell_type": "markdown",
   "metadata": {},
   "source": [
    "## EDA"
   ]
  },
  {
   "cell_type": "code",
   "execution_count": 449,
   "metadata": {},
   "outputs": [
    {
     "data": {
      "text/plain": [
       "array(['South America', 'Central America', 'North America'], dtype=object)"
      ]
     },
     "execution_count": 449,
     "metadata": {},
     "output_type": "execute_result"
    }
   ],
   "source": [
    "# Show the unique Regions contained in the Americas dataframe\n",
    "df_americas.Region.unique()"
   ]
  },
  {
   "cell_type": "code",
   "execution_count": 450,
   "metadata": {},
   "outputs": [
    {
     "data": {
      "text/plain": [
       "array(['Western Europe', 'Northern Europe', 'Scandinavia',\n",
       "       'Southern Europe', 'British Isles', 'Eastern Europe'], dtype=object)"
      ]
     },
     "execution_count": 450,
     "metadata": {},
     "output_type": "execute_result"
    }
   ],
   "source": [
    "# Show the unique Regions contained in the Greater Europe dataframe\n",
    "df_ge.Region.unique()"
   ]
  },
  {
   "cell_type": "code",
   "execution_count": 451,
   "metadata": {},
   "outputs": [
    {
     "data": {
      "text/html": [
       "<div>\n",
       "<style scoped>\n",
       "    .dataframe tbody tr th:only-of-type {\n",
       "        vertical-align: middle;\n",
       "    }\n",
       "\n",
       "    .dataframe tbody tr th {\n",
       "        vertical-align: top;\n",
       "    }\n",
       "\n",
       "    .dataframe thead th {\n",
       "        text-align: right;\n",
       "    }\n",
       "</style>\n",
       "<table border=\"1\" class=\"dataframe\">\n",
       "  <thead>\n",
       "    <tr style=\"text-align: right;\">\n",
       "      <th></th>\n",
       "      <th>Region</th>\n",
       "      <th>order_amount</th>\n",
       "    </tr>\n",
       "  </thead>\n",
       "  <tbody>\n",
       "    <tr>\n",
       "      <th>5</th>\n",
       "      <td>South America</td>\n",
       "      <td>77.0</td>\n",
       "    </tr>\n",
       "    <tr>\n",
       "      <th>6</th>\n",
       "      <td>South America</td>\n",
       "      <td>1261.4</td>\n",
       "    </tr>\n",
       "    <tr>\n",
       "      <th>7</th>\n",
       "      <td>South America</td>\n",
       "      <td>214.2</td>\n",
       "    </tr>\n",
       "    <tr>\n",
       "      <th>14</th>\n",
       "      <td>South America</td>\n",
       "      <td>200.0</td>\n",
       "    </tr>\n",
       "    <tr>\n",
       "      <th>15</th>\n",
       "      <td>South America</td>\n",
       "      <td>604.8</td>\n",
       "    </tr>\n",
       "  </tbody>\n",
       "</table>\n",
       "</div>"
      ],
      "text/plain": [
       "           Region  order_amount\n",
       "5   South America          77.0\n",
       "6   South America        1261.4\n",
       "7   South America         214.2\n",
       "14  South America         200.0\n",
       "15  South America         604.8"
      ]
     },
     "execution_count": 451,
     "metadata": {},
     "output_type": "execute_result"
    }
   ],
   "source": [
    "#View the head of the Americas Data Frame\n",
    "df_americas.head()"
   ]
  },
  {
   "cell_type": "code",
   "execution_count": 452,
   "metadata": {
    "scrolled": true
   },
   "outputs": [
    {
     "data": {
      "text/html": [
       "<div>\n",
       "<style scoped>\n",
       "    .dataframe tbody tr th:only-of-type {\n",
       "        vertical-align: middle;\n",
       "    }\n",
       "\n",
       "    .dataframe tbody tr th {\n",
       "        vertical-align: top;\n",
       "    }\n",
       "\n",
       "    .dataframe thead th {\n",
       "        text-align: right;\n",
       "    }\n",
       "</style>\n",
       "<table border=\"1\" class=\"dataframe\">\n",
       "  <thead>\n",
       "    <tr style=\"text-align: right;\">\n",
       "      <th></th>\n",
       "      <th>Region</th>\n",
       "      <th>order_amount</th>\n",
       "    </tr>\n",
       "  </thead>\n",
       "  <tbody>\n",
       "    <tr>\n",
       "      <th>0</th>\n",
       "      <td>Western Europe</td>\n",
       "      <td>168.0</td>\n",
       "    </tr>\n",
       "    <tr>\n",
       "      <th>1</th>\n",
       "      <td>Western Europe</td>\n",
       "      <td>98.0</td>\n",
       "    </tr>\n",
       "    <tr>\n",
       "      <th>2</th>\n",
       "      <td>Western Europe</td>\n",
       "      <td>174.0</td>\n",
       "    </tr>\n",
       "    <tr>\n",
       "      <th>3</th>\n",
       "      <td>Western Europe</td>\n",
       "      <td>167.4</td>\n",
       "    </tr>\n",
       "    <tr>\n",
       "      <th>4</th>\n",
       "      <td>Western Europe</td>\n",
       "      <td>1696.0</td>\n",
       "    </tr>\n",
       "  </tbody>\n",
       "</table>\n",
       "</div>"
      ],
      "text/plain": [
       "           Region  order_amount\n",
       "0  Western Europe         168.0\n",
       "1  Western Europe          98.0\n",
       "2  Western Europe         174.0\n",
       "3  Western Europe         167.4\n",
       "4  Western Europe        1696.0"
      ]
     },
     "execution_count": 452,
     "metadata": {},
     "output_type": "execute_result"
    }
   ],
   "source": [
    "#View the head of the Greater Europe Data Frame\n",
    "df_ge.head()"
   ]
  },
  {
   "cell_type": "markdown",
   "metadata": {},
   "source": [
    "## Slightly modify function to visualize Distributions"
   ]
  },
  {
   "cell_type": "code",
   "execution_count": 453,
   "metadata": {},
   "outputs": [],
   "source": [
    "#Function to compare experimental and control group distributions and means visually\n",
    "def compare_2_distributions(control, experimental):\n",
    "    '''Function will compare the distributions of two sample populations'''\n",
    "    plt.figure(figsize=(15,6))\n",
    "    sns.distplot(control, bins = 50, label= \"Americas\", color ='r')\n",
    "    sns.distplot(experimental, bins = 50, label= \"Greater Europe\", color='darkblue')\n",
    "    plt.axvline(x=control.mean(), color='r', linestyle=':', label='Americas Mean')\n",
    "    plt.axvline(x=experimental.mean(), color='k', linestyle='--', label='Greater Europe Mean')\n",
    "    \n",
    "    plt.title('Order Amounts Americas vs Greater Europe Distributions', fontsize= 18)\n",
    "    plt.xlabel('Order Amounts Americas vs Greater Europe Distributions', fontsize=15)\n",
    "    plt.ylabel('Frequency', fontsize=15)\n",
    "    plt.legend()\n",
    "    plt.tight_layout()\n",
    "    plt.show()"
   ]
  },
  {
   "cell_type": "code",
   "execution_count": 454,
   "metadata": {},
   "outputs": [
    {
     "data": {
      "image/png": "[encoded data removed]",
      "text/plain": [
       "<Figure size 1080x432 with 1 Axes>"
      ]
     },
     "metadata": {
      "needs_background": "light"
     },
     "output_type": "display_data"
    }
   ],
   "source": [
    "# Visualize our distributions with the means displayed\n",
    "compare_2_distributions(df_americas.order_amount, df_ge.order_amount)"
   ]
  },
  {
   "cell_type": "markdown",
   "metadata": {},
   "source": [
    "## The Distribution looks Ok but there does not appear to be much difference in the means"
   ]
  },
  {
   "cell_type": "code",
   "execution_count": 455,
   "metadata": {
    "scrolled": true
   },
   "outputs": [
    {
     "data": {
      "text/plain": [
       "(count      786.000000\n",
       " mean       578.901792\n",
       " std       1027.605847\n",
       " min          8.640000\n",
       " 25%        138.250000\n",
       " 50%        315.000000\n",
       " 75%        640.000000\n",
       " max      15810.000000\n",
       " Name: order_amount, dtype: float64, count     1292.000000\n",
       " mean       598.265214\n",
       " std        942.558348\n",
       " min          4.800000\n",
       " 25%        156.787500\n",
       " 50%        357.250000\n",
       " 75%        678.800000\n",
       " max      15019.500000\n",
       " Name: order_amount, dtype: float64)"
      ]
     },
     "execution_count": 455,
     "metadata": {},
     "output_type": "execute_result"
    }
   ],
   "source": [
    "# Print the 5 point Statistics for each of our Distributions for Order Amounts\n",
    "df_americas.order_amount.describe(), df_ge.order_amount.describe()"
   ]
  },
  {
   "cell_type": "markdown",
   "metadata": {},
   "source": [
    "## Check visually for Noramlity assumption"
   ]
  },
  {
   "cell_type": "code",
   "execution_count": 456,
   "metadata": {},
   "outputs": [
    {
     "data": {
      "image/png": "[encoded data removed]",
      "text/plain": [
       "<Figure size 864x360 with 1 Axes>"
      ]
     },
     "metadata": {
      "needs_background": "light"
     },
     "output_type": "display_data"
    },
    {
     "data": {
      "image/png": "[encoded data removed]",
      "text/plain": [
       "<Figure size 864x360 with 1 Axes>"
      ]
     },
     "metadata": {
      "needs_background": "light"
     },
     "output_type": "display_data"
    }
   ],
   "source": [
    "# Plot the Distplot of our Distributions with KDE to check for narmality\n",
    "plt.figure(figsize=(12,5))\n",
    "sns.distplot(df_americas.order_amount, bins=50, kde=True, color=\"midnightblue\")\n",
    "plt.title(\"Order Amounts Americas Distribution\")\n",
    "plt.show()\n",
    "plt.figure(figsize=(12,5))\n",
    "sns.distplot(df_ge.order_amount, bins=50, kde=True, color='firebrick')\n",
    "plt.title(\"Order Amounts Greater Europe Distribution\")\n",
    "plt.show()"
   ]
  },
  {
   "cell_type": "markdown",
   "metadata": {},
   "source": [
    "### From the inspection above and considering sample size or Distributions can be considered normal for testing"
   ]
  },
  {
   "cell_type": "markdown",
   "metadata": {},
   "source": [
    "## Check for Equal Variance Assumption"
   ]
  },
  {
   "cell_type": "code",
   "execution_count": 457,
   "metadata": {},
   "outputs": [
    {
     "name": "stdout",
     "output_type": "stream",
     "text": [
      "The ratio of the standard deviations of our two samples is 1.0899586277534457\n",
      "If the ratio is between 0.8 and 1.2 we are in line with the assumptions of our test\n"
     ]
    }
   ],
   "source": [
    "# Compare the ratio of the Standard Deviations\n",
    "ratio2 = np.std(df_americas.order_amount)/np.std(df_ge.order_amount)\n",
    "print('The ratio of the standard deviations of our two samples is {}'.format(ratio2))\n",
    "print('If the ratio is between 0.8 and 1.2 we are in line with the assumptions of our test')"
   ]
  },
  {
   "cell_type": "markdown",
   "metadata": {},
   "source": [
    "## The underlying assumtions have been met.  This is a good candidate for 2 sample t-test"
   ]
  },
  {
   "cell_type": "markdown",
   "metadata": {},
   "source": [
    "## Question # 3: Hypothesis \n",
    "- $H_0$: Mean Americas $\\mu_1$ = $\\mu_2$  Mean Greater Europe\n",
    "- $H_\\alpha$: Mean of Americas $\\mu_1$ $\\neq$ $\\mu_2$ Mean Greater Europe\n",
    "- $\\alpha$ = 0.05"
   ]
  },
  {
   "cell_type": "code",
   "execution_count": 458,
   "metadata": {},
   "outputs": [
    {
     "name": "stdout",
     "output_type": "stream",
     "text": [
      "p-value is 0.6608754677717239\n",
      "p-value is greater than 0.05 we fail to reject the null hypothesis\n"
     ]
    }
   ],
   "source": [
    "# Testing Hypothesis # 3\n",
    "tval2, pval2 = stats.ttest_ind(df_americas.order_amount, df_ge.order_amount)\n",
    "print(\"p-value is {}\".format(pval2))\n",
    "print(\"p-value is greater than 0.05 we fail to reject the null hypothesis\")"
   ]
  },
  {
   "cell_type": "markdown",
   "metadata": {},
   "source": [
    "## We failed to reject the null hypothesis"
   ]
  },
  {
   "cell_type": "code",
   "execution_count": 459,
   "metadata": {},
   "outputs": [
    {
     "data": {
      "image/png": "[encoded data removed]",
      "text/plain": [
       "<Figure size 792x360 with 1 Axes>"
      ]
     },
     "metadata": {
      "needs_background": "light"
     },
     "output_type": "display_data"
    }
   ],
   "source": [
    "# Visualize t and p_value\n",
    "\n",
    "def visualize_t_two_tail(t_stat, n_control, n_experimental):\n",
    "    \"\"\"Function to visualize the PDF T-Distribution\"\"\"\n",
    "\n",
    "    # initialize a matplotlib \"figure\"\n",
    "    plt.figure(figsize=(11,5))\n",
    "\n",
    "    # generate points on the x axis between -4 and 4:\n",
    "    xs = np.linspace(-4, 4, 500)\n",
    " \n",
    "    # use stats.t.pdf to get values on the probability density function for the t-distribution\n",
    "    dof = (n_control + n_experimental) - 2\n",
    "    ys = stats.t.pdf(xs, dof, 0, 1)\n",
    "    # Draw one sided boundary for critical-t\n",
    "    t_crit = stats.t.ppf(.975, ((n_control +n_experimental)-2))\n",
    "    plt.plot(xs, ys, label=\"Probabilty Density Function\")\n",
    "    plt.axvline(t_crit, color='K', linestyle='--', label='T-critical')\n",
    "    plt.axvline(-t_crit, color='K', linestyle='--', label='T-critical')\n",
    "    plt.axvline(t_stat, color='r', linestyle='--', label='T-statistic')\n",
    "    plt.title('Probability Density T-Distribution', fontsize= 15)\n",
    "    plt.xlabel('Distibution', fontsize=12)\n",
    "    plt.ylabel('Probability', fontsize=12)\n",
    "    plt.legend()\n",
    "    plt.tight_layout()\n",
    "    plt.show()\n",
    "\n",
    "    return None\n",
    "\n",
    "n_control = len(df_americas.order_amount)\n",
    "n_experimental = len(df_ge.order_amount)\n",
    "visualize_t_two_tail(tval2, n_control, n_experimental)"
   ]
  },
  {
   "cell_type": "markdown",
   "metadata": {},
   "source": [
    "### Calculate Cohen's d statistic"
   ]
  },
  {
   "cell_type": "code",
   "execution_count": 460,
   "metadata": {},
   "outputs": [
    {
     "name": "stdout",
     "output_type": "stream",
     "text": [
      "The Cohen's d statistic is 0.019847713624031035\n"
     ]
    }
   ],
   "source": [
    "print(\"The Cohen's d statistic is {}\".format(cohen_d(df_americas.order_amount, df_ge.order_amount)))"
   ]
  },
  {
   "cell_type": "markdown",
   "metadata": {},
   "source": [
    "## Question # 3: Results and Conclusions\n",
    "* We failed to reject the null hypothesis\n",
    "* This indicates that the mean order amounts form the Americas and Greater Europe do not differ statistically\n",
    "* In fact it appears that the mean order amounts from from these two areas of the globe are very similar"
   ]
  },
  {
   "cell_type": "markdown",
   "metadata": {},
   "source": [
    "## Question # 3: Business Insight\n",
    "* Failing to reject the null hypothesis in this investigation is not bad news for Northwind\n",
    "* It is good news, and why it was important to investigate this question\n",
    "* Northwind Traders is an International trading company\n",
    "* It is great news to know that the average amount for orders placed was similar for different areas of the customer base\n",
    "* While Western Europe still produces the highest overall revenue.  It is good to know that average order amounts are still high in many areas.\n",
    "* This means that Northwind’s products are appealing to many regions.  Customers are ordering.\n",
    "* Steps can be taken in marketing and product development to enhance the total sales in other regions\n"
   ]
  },
  {
   "cell_type": "markdown",
   "metadata": {},
   "source": [
    "# Question # 4: Analyze the amount of products sold from each of Northwind's product categories"
   ]
  },
  {
   "cell_type": "markdown",
   "metadata": {},
   "source": [
    "## The information we need can be found in the Product, Order Detail and Category tables"
   ]
  },
  {
   "cell_type": "code",
   "execution_count": 461,
   "metadata": {},
   "outputs": [
    {
     "name": "stdout",
     "output_type": "stream",
     "text": [
      "2019-06-15 20:10:07,515 INFO sqlalchemy.engine.base.Engine \n",
      "SELECT p.Id, c.CategoryName, od.Quantity\n",
      "FROM [Product] p\n",
      "INNER JOIN [OrderDetail] od ON od.ProductId = p.Id\n",
      "INNER JOIN [Category] c ON c.Id = p.CategoryId\n",
      " \n",
      "2019-06-15 20:10:07,517 INFO sqlalchemy.engine.base.Engine ()\n"
     ]
    }
   ],
   "source": [
    "# Read the needed data into a dataframe from the tables listed above\n",
    "df_sales_per_category = pd.read_sql_query('''\n",
    "SELECT p.Id, c.CategoryName, od.Quantity\n",
    "FROM [Product] p\n",
    "INNER JOIN [OrderDetail] od ON od.ProductId = p.Id\n",
    "INNER JOIN [Category] c ON c.Id = p.CategoryId\n",
    " ''', engine)"
   ]
  },
  {
   "cell_type": "markdown",
   "metadata": {},
   "source": [
    "## EDA"
   ]
  },
  {
   "cell_type": "code",
   "execution_count": 462,
   "metadata": {},
   "outputs": [
    {
     "data": {
      "text/html": [
       "<div>\n",
       "<style scoped>\n",
       "    .dataframe tbody tr th:only-of-type {\n",
       "        vertical-align: middle;\n",
       "    }\n",
       "\n",
       "    .dataframe tbody tr th {\n",
       "        vertical-align: top;\n",
       "    }\n",
       "\n",
       "    .dataframe thead th {\n",
       "        text-align: right;\n",
       "    }\n",
       "</style>\n",
       "<table border=\"1\" class=\"dataframe\">\n",
       "  <thead>\n",
       "    <tr style=\"text-align: right;\">\n",
       "      <th></th>\n",
       "      <th>Id</th>\n",
       "      <th>CategoryName</th>\n",
       "      <th>Quantity</th>\n",
       "    </tr>\n",
       "  </thead>\n",
       "  <tbody>\n",
       "    <tr>\n",
       "      <th>0</th>\n",
       "      <td>11</td>\n",
       "      <td>Dairy Products</td>\n",
       "      <td>12</td>\n",
       "    </tr>\n",
       "    <tr>\n",
       "      <th>1</th>\n",
       "      <td>42</td>\n",
       "      <td>Grains/Cereals</td>\n",
       "      <td>10</td>\n",
       "    </tr>\n",
       "    <tr>\n",
       "      <th>2</th>\n",
       "      <td>72</td>\n",
       "      <td>Dairy Products</td>\n",
       "      <td>5</td>\n",
       "    </tr>\n",
       "    <tr>\n",
       "      <th>3</th>\n",
       "      <td>14</td>\n",
       "      <td>Produce</td>\n",
       "      <td>9</td>\n",
       "    </tr>\n",
       "    <tr>\n",
       "      <th>4</th>\n",
       "      <td>51</td>\n",
       "      <td>Produce</td>\n",
       "      <td>40</td>\n",
       "    </tr>\n",
       "  </tbody>\n",
       "</table>\n",
       "</div>"
      ],
      "text/plain": [
       "   Id    CategoryName  Quantity\n",
       "0  11  Dairy Products        12\n",
       "1  42  Grains/Cereals        10\n",
       "2  72  Dairy Products         5\n",
       "3  14         Produce         9\n",
       "4  51         Produce        40"
      ]
     },
     "execution_count": 462,
     "metadata": {},
     "output_type": "execute_result"
    }
   ],
   "source": [
    "# Inspect the first 5 rows of our datframe\n",
    "df_sales_per_category.head()"
   ]
  },
  {
   "cell_type": "code",
   "execution_count": 463,
   "metadata": {},
   "outputs": [
    {
     "data": {
      "text/plain": [
       "Beverages         404\n",
       "Dairy Products    366\n",
       "Confections       334\n",
       "Seafood           330\n",
       "Condiments        216\n",
       "Grains/Cereals    196\n",
       "Meat/Poultry      173\n",
       "Produce           136\n",
       "Name: CategoryName, dtype: int64"
      ]
     },
     "execution_count": 463,
     "metadata": {},
     "output_type": "execute_result"
    }
   ],
   "source": [
    "# Get a count for the number of products sold in each category\n",
    "df_sales_per_category.CategoryName.value_counts()"
   ]
  },
  {
   "cell_type": "code",
   "execution_count": 464,
   "metadata": {},
   "outputs": [
    {
     "data": {
      "text/html": [
       "<div>\n",
       "<style scoped>\n",
       "    .dataframe tbody tr th:only-of-type {\n",
       "        vertical-align: middle;\n",
       "    }\n",
       "\n",
       "    .dataframe tbody tr th {\n",
       "        vertical-align: top;\n",
       "    }\n",
       "\n",
       "    .dataframe thead th {\n",
       "        text-align: right;\n",
       "    }\n",
       "</style>\n",
       "<table border=\"1\" class=\"dataframe\">\n",
       "  <thead>\n",
       "    <tr style=\"text-align: right;\">\n",
       "      <th></th>\n",
       "      <th>count</th>\n",
       "      <th>mean</th>\n",
       "      <th>std</th>\n",
       "      <th>min</th>\n",
       "      <th>25%</th>\n",
       "      <th>50%</th>\n",
       "      <th>75%</th>\n",
       "      <th>max</th>\n",
       "    </tr>\n",
       "    <tr>\n",
       "      <th>CategoryName</th>\n",
       "      <th></th>\n",
       "      <th></th>\n",
       "      <th></th>\n",
       "      <th></th>\n",
       "      <th></th>\n",
       "      <th></th>\n",
       "      <th></th>\n",
       "      <th></th>\n",
       "    </tr>\n",
       "  </thead>\n",
       "  <tbody>\n",
       "    <tr>\n",
       "      <th>Beverages</th>\n",
       "      <td>404.0</td>\n",
       "      <td>23.594059</td>\n",
       "      <td>19.222830</td>\n",
       "      <td>2.0</td>\n",
       "      <td>10.0</td>\n",
       "      <td>20.0</td>\n",
       "      <td>30.00</td>\n",
       "      <td>130.0</td>\n",
       "    </tr>\n",
       "    <tr>\n",
       "      <th>Condiments</th>\n",
       "      <td>216.0</td>\n",
       "      <td>24.527778</td>\n",
       "      <td>19.761818</td>\n",
       "      <td>1.0</td>\n",
       "      <td>10.0</td>\n",
       "      <td>20.0</td>\n",
       "      <td>30.00</td>\n",
       "      <td>120.0</td>\n",
       "    </tr>\n",
       "    <tr>\n",
       "      <th>Confections</th>\n",
       "      <td>334.0</td>\n",
       "      <td>23.670659</td>\n",
       "      <td>17.264570</td>\n",
       "      <td>1.0</td>\n",
       "      <td>10.0</td>\n",
       "      <td>20.0</td>\n",
       "      <td>34.25</td>\n",
       "      <td>120.0</td>\n",
       "    </tr>\n",
       "    <tr>\n",
       "      <th>Dairy Products</th>\n",
       "      <td>366.0</td>\n",
       "      <td>24.997268</td>\n",
       "      <td>18.797770</td>\n",
       "      <td>1.0</td>\n",
       "      <td>10.0</td>\n",
       "      <td>20.0</td>\n",
       "      <td>35.00</td>\n",
       "      <td>110.0</td>\n",
       "    </tr>\n",
       "    <tr>\n",
       "      <th>Grains/Cereals</th>\n",
       "      <td>196.0</td>\n",
       "      <td>23.275510</td>\n",
       "      <td>18.253924</td>\n",
       "      <td>2.0</td>\n",
       "      <td>10.0</td>\n",
       "      <td>20.0</td>\n",
       "      <td>30.00</td>\n",
       "      <td>130.0</td>\n",
       "    </tr>\n",
       "    <tr>\n",
       "      <th>Meat/Poultry</th>\n",
       "      <td>173.0</td>\n",
       "      <td>24.271676</td>\n",
       "      <td>22.238955</td>\n",
       "      <td>2.0</td>\n",
       "      <td>10.0</td>\n",
       "      <td>18.0</td>\n",
       "      <td>30.00</td>\n",
       "      <td>120.0</td>\n",
       "    </tr>\n",
       "    <tr>\n",
       "      <th>Produce</th>\n",
       "      <td>136.0</td>\n",
       "      <td>21.985294</td>\n",
       "      <td>18.490031</td>\n",
       "      <td>1.0</td>\n",
       "      <td>10.0</td>\n",
       "      <td>19.0</td>\n",
       "      <td>30.00</td>\n",
       "      <td>120.0</td>\n",
       "    </tr>\n",
       "    <tr>\n",
       "      <th>Seafood</th>\n",
       "      <td>330.0</td>\n",
       "      <td>23.275758</td>\n",
       "      <td>19.161917</td>\n",
       "      <td>1.0</td>\n",
       "      <td>10.0</td>\n",
       "      <td>20.0</td>\n",
       "      <td>30.00</td>\n",
       "      <td>120.0</td>\n",
       "    </tr>\n",
       "  </tbody>\n",
       "</table>\n",
       "</div>"
      ],
      "text/plain": [
       "                count       mean        std  min   25%   50%    75%    max\n",
       "CategoryName                                                              \n",
       "Beverages       404.0  23.594059  19.222830  2.0  10.0  20.0  30.00  130.0\n",
       "Condiments      216.0  24.527778  19.761818  1.0  10.0  20.0  30.00  120.0\n",
       "Confections     334.0  23.670659  17.264570  1.0  10.0  20.0  34.25  120.0\n",
       "Dairy Products  366.0  24.997268  18.797770  1.0  10.0  20.0  35.00  110.0\n",
       "Grains/Cereals  196.0  23.275510  18.253924  2.0  10.0  20.0  30.00  130.0\n",
       "Meat/Poultry    173.0  24.271676  22.238955  2.0  10.0  18.0  30.00  120.0\n",
       "Produce         136.0  21.985294  18.490031  1.0  10.0  19.0  30.00  120.0\n",
       "Seafood         330.0  23.275758  19.161917  1.0  10.0  20.0  30.00  120.0"
      ]
     },
     "execution_count": 464,
     "metadata": {},
     "output_type": "execute_result"
    }
   ],
   "source": [
    "# Get the 5 point statistics for quantity sold in each category\n",
    "df_sales_per_category.groupby('CategoryName')['Quantity'].describe()"
   ]
  },
  {
   "cell_type": "code",
   "execution_count": 465,
   "metadata": {},
   "outputs": [
    {
     "data": {
      "image/png": "[encoded data removed]",
      "text/plain": [
       "<Figure size 1080x432 with 1 Axes>"
      ]
     },
     "metadata": {
      "needs_background": "light"
     },
     "output_type": "display_data"
    }
   ],
   "source": [
    "# Box and Whisker Plots of Order Quantity per Northwind Product Category         \n",
    "df_sales_per_category.boxplot(column='Quantity', by='CategoryName', figsize=(15, 6), grid=False)\n",
    "plt.title('Order Quantity per Northwind Product Category', fontsize=18)\n",
    "plt.ylabel(\"Quantity\")\n",
    "plt.show()"
   ]
  },
  {
   "cell_type": "markdown",
   "metadata": {},
   "source": [
    "## Investigate the distributions for Normality"
   ]
  },
  {
   "cell_type": "code",
   "execution_count": 466,
   "metadata": {},
   "outputs": [
    {
     "data": {
      "image/png": "[encoded data removed]",
      "text/plain": [
       "<Figure size 1080x432 with 1 Axes>"
      ]
     },
     "metadata": {
      "needs_background": "light"
     },
     "output_type": "display_data"
    }
   ],
   "source": [
    "# Plot of Distibutions of Order Quantity by Product Category\n",
    "df_sales_per_category.groupby('CategoryName')['Quantity'].hist(figsize=(15, 6), bins=30, alpha=.5, grid=False)\n",
    "plt.title('Distibutions of Order Quantity by Product Category', fontsize=18)\n",
    "plt.xlabel('Product Categories', fontsize=15)\n",
    "plt.ylabel('Quantity', fontsize=15)\n",
    "plt.show()"
   ]
  },
  {
   "cell_type": "markdown",
   "metadata": {},
   "source": [
    "### Notes on the Normality assumtion for this test:\n",
    "* Distributions are not completely normal but \"normal enough\"\n",
    "* Distributions all follow the same general trend\n",
    "* Sample size is over 100 for each category, samples follow the same general trend. Normality assumption will not be violated\n",
    "* This test is a good candidate for the Tukey's HSD test"
   ]
  },
  {
   "cell_type": "markdown",
   "metadata": {},
   "source": [
    "## Check for equal variance:\n",
    "* The largest ratio of standard deviations between Categories is 1.29\n",
    "* All other ratios are close to 1\n",
    "* This test is a good candidate for the Tukey's HSD pairwise comparison"
   ]
  },
  {
   "cell_type": "markdown",
   "metadata": {},
   "source": [
    "## Question # 4: Hypothesis\n",
    "- $H_0$: Mean of each Product Category comapred: $\\mu_1$ = $\\mu_2$\n",
    "- $H_\\alpha$: Mean of each Product Category comapred: $\\mu_1$ $\\neq$ $\\mu_2$\n",
    "- $\\alpha$ = 0.05"
   ]
  },
  {
   "cell_type": "markdown",
   "metadata": {},
   "source": [
    "### Set up the Tukey's test for pairwise comaprison of the Order Quantity means for each Product Category"
   ]
  },
  {
   "cell_type": "code",
   "execution_count": 467,
   "metadata": {},
   "outputs": [
    {
     "name": "stdout",
     "output_type": "stream",
     "text": [
      "     Multiple Comparison of Means - Tukey HSD,FWER=0.05     \n",
      "============================================================\n",
      "    group1         group2     meandiff  lower  upper  reject\n",
      "------------------------------------------------------------\n",
      "  Beverages      Condiments    0.9337  -3.9346 5.802  False \n",
      "  Beverages     Confections    0.0766  -4.1947 4.3479 False \n",
      "  Beverages    Dairy Products  1.4032  -2.7647 5.5711 False \n",
      "  Beverages    Grains/Cereals -0.3185  -5.3461 4.709  False \n",
      "  Beverages     Meat/Poultry   0.6776  -4.5701 5.9254 False \n",
      "  Beverages       Produce     -1.6088  -7.3346 4.117  False \n",
      "  Beverages       Seafood     -0.3183  -4.6038 3.9672 False \n",
      "  Condiments    Confections   -0.8571    -5.9  4.1858 False \n",
      "  Condiments   Dairy Products  0.4695  -4.4861 5.4251 False \n",
      "  Condiments   Grains/Cereals -1.2523  -6.9499 4.4454 False \n",
      "  Condiments    Meat/Poultry  -0.2561  -6.1489 5.6367 False \n",
      "  Condiments      Produce     -2.5425  -8.8648 3.7798 False \n",
      "  Condiments      Seafood      -1.252  -6.3069 3.8029 False \n",
      " Confections   Dairy Products  1.3266  -3.0439 5.6971 False \n",
      " Confections   Grains/Cereals -0.3951   -5.592 4.8017 False \n",
      " Confections    Meat/Poultry   0.601   -4.8091 6.0111 False \n",
      " Confections      Produce     -1.6854  -7.5603 4.1896 False \n",
      " Confections      Seafood     -0.3949  -4.8777 4.0879 False \n",
      "Dairy Products Grains/Cereals -1.7218  -6.8339 3.3903 False \n",
      "Dairy Products  Meat/Poultry  -0.7256  -6.0544 4.6032 False \n",
      "Dairy Products    Produce      -3.012  -8.8122 2.7882 False \n",
      "Dairy Products    Seafood     -1.7215  -6.1059 2.6629 False \n",
      "Grains/Cereals  Meat/Poultry   0.9962  -5.0289 7.0212 False \n",
      "Grains/Cereals    Produce     -1.2902  -7.7359 5.1555 False \n",
      "Grains/Cereals    Seafood      0.0002  -5.2082 5.2087 False \n",
      " Meat/Poultry     Produce     -2.2864  -8.9053 4.3325 False \n",
      " Meat/Poultry     Seafood     -0.9959  -6.4172 4.4254 False \n",
      "   Produce        Seafood      1.2905  -4.5948 7.1757 False \n",
      "------------------------------------------------------------\n"
     ]
    }
   ],
   "source": [
    "# Tukey's pairwise comparison of Order Amounts from each Customer Region\n",
    "results3 = pairwise_tukeyhsd(df_sales_per_category.Quantity, df_sales_per_category.CategoryName, 0.05)\n",
    "print(results3)"
   ]
  },
  {
   "cell_type": "markdown",
   "metadata": {},
   "source": [
    "## Question # 4: Results and Conclusions\n",
    "* We failed to reject the Null Hypothesis in all comaprisons\n",
    "* This indicates that the mean order size is similar across all categories"
   ]
  },
  {
   "cell_type": "markdown",
   "metadata": {},
   "source": [
    "## Question # 4: Business Insight\n",
    "* This is actually good news for Northwind\n",
    "* This means that no individual Product Category is lagging behind the others in terms of quantities ordered\n",
    "* All product categories seeem to be selling equally well in terms of quantity per order\n"
   ]
  },
  {
   "cell_type": "markdown",
   "metadata": {},
   "source": [
    "# Question # 5: Compare Average Sales Totals from 2012-2013 to 2013-2014\n",
    "* Our Data is a subset of the Northwind database\n",
    "* The dates we have access to start in mid-2012 and run through mid-2014\n",
    "* In order to address this question, I will split the data into 2 equal halves based on order id\n",
    "*  This is a good estimation of average sales from 2012-2013 to 2013-2014 but not exact\n",
    "*  What we will be comparing is the average order revenue from the first half of orders placed with Northwind to the average order revenue from the second half of orders placed with Northwind.\n",
    "* This was a necessary given the subset of information we have access to in order to make a fair comparison\n",
    "* This will allow us to see if the average order revenue has increased (or decreased) by looking at the first and second half of all orders placed with Northwind.\n"
   ]
  },
  {
   "cell_type": "markdown",
   "metadata": {},
   "source": [
    "## Obtaining the Data: the data we need can be found in the Order and Order Details tables"
   ]
  },
  {
   "cell_type": "code",
   "execution_count": 468,
   "metadata": {},
   "outputs": [
    {
     "name": "stdout",
     "output_type": "stream",
     "text": [
      "2019-06-15 20:10:09,215 INFO sqlalchemy.engine.base.Engine SELECT od.OrderId,\n",
      "                            SUM((od.UnitPrice * (1 - od.Discount)) * od.Quantity) Sales_total\n",
      "                            FROM OrderDetail od\n",
      "                            JOIN [Order] o ON od.OrderId = o.Id\n",
      "                            WHERE od.OrderId BETWEEN 10248 AND 10662\n",
      "                            GROUP BY od.OrderId\n",
      "                    \n",
      "2019-06-15 20:10:09,217 INFO sqlalchemy.engine.base.Engine ()\n",
      "2019-06-15 20:10:09,234 INFO sqlalchemy.engine.base.Engine SELECT od.OrderId,\n",
      "                            SUM((od.UnitPrice * (1 - od.Discount)) * od.Quantity) Sales_total\n",
      "                            FROM OrderDetail od\n",
      "                            JOIN [Order] o ON od.OrderId = o.Id\n",
      "                            WHERE od.OrderId BETWEEN 10663 AND 11077\n",
      "                            GROUP BY od.OrderId\n",
      "                    \n",
      "2019-06-15 20:10:09,237 INFO sqlalchemy.engine.base.Engine ()\n"
     ]
    }
   ],
   "source": [
    "# Query the database to retrieve the needed data\n",
    "sales_1st_half = pd.read_sql_query('''SELECT od.OrderId,\n",
    "                            SUM((od.UnitPrice * (1 - od.Discount)) * od.Quantity) Sales_total\n",
    "                            FROM OrderDetail od\n",
    "                            JOIN [Order] o ON od.OrderId = o.Id\n",
    "                            WHERE od.OrderId BETWEEN 10248 AND 10662\n",
    "                            GROUP BY od.OrderId\n",
    "                    ''', engine)\n",
    "\n",
    "sales_2nd_half = pd.read_sql_query('''SELECT od.OrderId,\n",
    "                            SUM((od.UnitPrice * (1 - od.Discount)) * od.Quantity) Sales_total\n",
    "                            FROM OrderDetail od\n",
    "                            JOIN [Order] o ON od.OrderId = o.Id\n",
    "                            WHERE od.OrderId BETWEEN 10663 AND 11077\n",
    "                            GROUP BY od.OrderId\n",
    "                    ''', engine)"
   ]
  },
  {
   "cell_type": "code",
   "execution_count": 469,
   "metadata": {},
   "outputs": [
    {
     "data": {
      "text/html": [
       "<div>\n",
       "<style scoped>\n",
       "    .dataframe tbody tr th:only-of-type {\n",
       "        vertical-align: middle;\n",
       "    }\n",
       "\n",
       "    .dataframe tbody tr th {\n",
       "        vertical-align: top;\n",
       "    }\n",
       "\n",
       "    .dataframe thead th {\n",
       "        text-align: right;\n",
       "    }\n",
       "</style>\n",
       "<table border=\"1\" class=\"dataframe\">\n",
       "  <thead>\n",
       "    <tr style=\"text-align: right;\">\n",
       "      <th></th>\n",
       "      <th>OrderId</th>\n",
       "      <th>Sales_total</th>\n",
       "    </tr>\n",
       "  </thead>\n",
       "  <tbody>\n",
       "    <tr>\n",
       "      <th>0</th>\n",
       "      <td>10248</td>\n",
       "      <td>440.00</td>\n",
       "    </tr>\n",
       "    <tr>\n",
       "      <th>1</th>\n",
       "      <td>10249</td>\n",
       "      <td>1863.40</td>\n",
       "    </tr>\n",
       "    <tr>\n",
       "      <th>2</th>\n",
       "      <td>10250</td>\n",
       "      <td>1552.60</td>\n",
       "    </tr>\n",
       "    <tr>\n",
       "      <th>3</th>\n",
       "      <td>10251</td>\n",
       "      <td>654.06</td>\n",
       "    </tr>\n",
       "    <tr>\n",
       "      <th>4</th>\n",
       "      <td>10252</td>\n",
       "      <td>3597.90</td>\n",
       "    </tr>\n",
       "  </tbody>\n",
       "</table>\n",
       "</div>"
      ],
      "text/plain": [
       "   OrderId  Sales_total\n",
       "0    10248       440.00\n",
       "1    10249      1863.40\n",
       "2    10250      1552.60\n",
       "3    10251       654.06\n",
       "4    10252      3597.90"
      ]
     },
     "execution_count": 469,
     "metadata": {},
     "output_type": "execute_result"
    }
   ],
   "source": [
    "# Inspect the first 5 rows of the datframe\n",
    "sales_1st_half.head()"
   ]
  },
  {
   "cell_type": "code",
   "execution_count": 470,
   "metadata": {},
   "outputs": [
    {
     "data": {
      "text/html": [
       "<div>\n",
       "<style scoped>\n",
       "    .dataframe tbody tr th:only-of-type {\n",
       "        vertical-align: middle;\n",
       "    }\n",
       "\n",
       "    .dataframe tbody tr th {\n",
       "        vertical-align: top;\n",
       "    }\n",
       "\n",
       "    .dataframe thead th {\n",
       "        text-align: right;\n",
       "    }\n",
       "</style>\n",
       "<table border=\"1\" class=\"dataframe\">\n",
       "  <thead>\n",
       "    <tr style=\"text-align: right;\">\n",
       "      <th></th>\n",
       "      <th>OrderId</th>\n",
       "      <th>Sales_total</th>\n",
       "    </tr>\n",
       "  </thead>\n",
       "  <tbody>\n",
       "    <tr>\n",
       "      <th>0</th>\n",
       "      <td>10663</td>\n",
       "      <td>1930.4000</td>\n",
       "    </tr>\n",
       "    <tr>\n",
       "      <th>1</th>\n",
       "      <td>10664</td>\n",
       "      <td>1288.3875</td>\n",
       "    </tr>\n",
       "    <tr>\n",
       "      <th>2</th>\n",
       "      <td>10665</td>\n",
       "      <td>1295.0000</td>\n",
       "    </tr>\n",
       "    <tr>\n",
       "      <th>3</th>\n",
       "      <td>10666</td>\n",
       "      <td>4666.9400</td>\n",
       "    </tr>\n",
       "    <tr>\n",
       "      <th>4</th>\n",
       "      <td>10667</td>\n",
       "      <td>1536.8000</td>\n",
       "    </tr>\n",
       "  </tbody>\n",
       "</table>\n",
       "</div>"
      ],
      "text/plain": [
       "   OrderId  Sales_total\n",
       "0    10663    1930.4000\n",
       "1    10664    1288.3875\n",
       "2    10665    1295.0000\n",
       "3    10666    4666.9400\n",
       "4    10667    1536.8000"
      ]
     },
     "execution_count": 470,
     "metadata": {},
     "output_type": "execute_result"
    }
   ],
   "source": [
    "# Inspect the first 5 rows of the datframe\n",
    "sales_2nd_half.head()"
   ]
  },
  {
   "cell_type": "code",
   "execution_count": 471,
   "metadata": {},
   "outputs": [
    {
     "data": {
      "text/plain": [
       "(count      415.000000\n",
       " mean      1454.145825\n",
       " std       1653.823835\n",
       " min         23.800000\n",
       " 25%        445.300000\n",
       " 50%        965.000000\n",
       " 75%       1822.300000\n",
       " max      11188.400000\n",
       " Name: Sales_total, dtype: float64, count      415.000000\n",
       " mean      1595.957884\n",
       " std       2018.013646\n",
       " min         12.500000\n",
       " 25%        473.805000\n",
       " 50%        932.000000\n",
       " 75%       1933.200000\n",
       " max      16387.500000\n",
       " Name: Sales_total, dtype: float64)"
      ]
     },
     "execution_count": 471,
     "metadata": {},
     "output_type": "execute_result"
    }
   ],
   "source": [
    "# Look at the 5 point statistics for Sales_total for each\n",
    "sales_1st_half.Sales_total.describe(), sales_2nd_half.Sales_total.describe()"
   ]
  },
  {
   "cell_type": "markdown",
   "metadata": {},
   "source": [
    "### Compare Distributions and Means"
   ]
  },
  {
   "cell_type": "code",
   "execution_count": 472,
   "metadata": {},
   "outputs": [],
   "source": [
    "#Function to compare experimental and control group distributions and means visually\n",
    "def compare_2_distributions_q5(control, experimental):\n",
    "    '''Function will compare the distributions of two sample populations'''\n",
    "    plt.figure(figsize=(15,6))\n",
    "    sns.distplot(control, bins = 50, label= \"1st Half Sales\", color ='c')\n",
    "    sns.distplot(experimental, bins = 50, label= \"2nd Half Sales\", color='darkgreen')\n",
    "    plt.axvline(x=control.mean(), color='r', linestyle='--', label='1st Half Sales Mean')\n",
    "    plt.axvline(x=experimental.mean(), color='k', linestyle='--', label='2nd Half Sales Mean')\n",
    "    \n",
    "    plt.title('1st Half Sales vs 2nd Half Sales Distributions', fontsize= 18)\n",
    "    plt.xlabel('1st Half Sales vs 2nd Half Sales Distributions', fontsize=15)\n",
    "    plt.ylabel('Frequency', fontsize=15)\n",
    "    plt.legend()\n",
    "    plt.tight_layout()\n",
    "    plt.show()"
   ]
  },
  {
   "cell_type": "code",
   "execution_count": 473,
   "metadata": {},
   "outputs": [
    {
     "data": {
      "image/png": "[encoded data removed]",
      "text/plain": [
       "<Figure size 1080x432 with 1 Axes>"
      ]
     },
     "metadata": {
      "needs_background": "light"
     },
     "output_type": "display_data"
    }
   ],
   "source": [
    "# Plot the distribution with Means displayed\n",
    "compare_2_distributions_q5(sales_1st_half.Sales_total, sales_2nd_half.Sales_total)"
   ]
  },
  {
   "cell_type": "markdown",
   "metadata": {},
   "source": [
    "### This appears to be normal enough for comaprison.  We have over 400 samples in each group"
   ]
  },
  {
   "cell_type": "code",
   "execution_count": 474,
   "metadata": {},
   "outputs": [
    {
     "data": {
      "image/png": "[encoded data removed]",
      "text/plain": [
       "<Figure size 432x288 with 1 Axes>"
      ]
     },
     "metadata": {
      "needs_background": "light"
     },
     "output_type": "display_data"
    }
   ],
   "source": [
    "# Investigate the normality of the two distributions with probability plots\n",
    "stats.probplot(sales_1st_half.Sales_total, plot = plt), \n",
    "stats.probplot(sales_2nd_half.Sales_total, plot = plt),\n",
    "plt.show()"
   ]
  },
  {
   "cell_type": "markdown",
   "metadata": {},
   "source": [
    "### Some deviation from Normality at the tails but over all it looks good"
   ]
  },
  {
   "cell_type": "markdown",
   "metadata": {},
   "source": [
    "## Check for equal variance"
   ]
  },
  {
   "cell_type": "code",
   "execution_count": 475,
   "metadata": {},
   "outputs": [
    {
     "name": "stdout",
     "output_type": "stream",
     "text": [
      "The ratio of the standard deviations of our two samples is 0.819530550853333\n",
      "If the ratio is between 0.8 and 1.2 we are in line with the assumptions of our test\n"
     ]
    }
   ],
   "source": [
    "# Check for equal variance using the ratio of the standard deviations\n",
    "ratio3 = sales_1st_half.Sales_total.std()/sales_2nd_half.Sales_total.std()\n",
    "print('The ratio of the standard deviations of our two samples is {}'.format(ratio3))\n",
    "print('If the ratio is between 0.8 and 1.2 we are in line with the assumptions of our test')"
   ]
  },
  {
   "cell_type": "markdown",
   "metadata": {},
   "source": [
    "## Choice for Hypothesis Test\n",
    "* Our Normality and sample size indicate a two sample t-test can be used to test our hypothesis\n",
    "* Our variance is closer to the lower limit for our test.  I will use a (Welch's) t-test for unequal variance\n",
    "* The mean 2nd half Sales total per order is slightly greater than that of the 1st half\n",
    "* This will be a one tailed t-test testing Mean 2nd half Sales total per order > Mean 1st half Sales total per order as our alternative hypothesis"
   ]
  },
  {
   "cell_type": "markdown",
   "metadata": {},
   "source": [
    "## Question # 5: Hypothesis \n",
    "- $H_0$: Mean 2nd half Sales total per order <= Mean 1st half Sales total per order\n",
    "- $H_\\alpha$: Mean 2nd half Sales total per order > Mean 1st half Sales total per order\n",
    "- $\\alpha$ = 0.05"
   ]
  },
  {
   "cell_type": "markdown",
   "metadata": {},
   "source": [
    "### Setting up the two sample t-test with unequal variance"
   ]
  },
  {
   "cell_type": "code",
   "execution_count": 476,
   "metadata": {},
   "outputs": [
    {
     "name": "stdout",
     "output_type": "stream",
     "text": [
      "p-value is 0.13426139364746337\n",
      "p-value is greater than 0.05 we fail to reject the null hypothesis\n"
     ]
    }
   ],
   "source": [
    "# Testing Hypothesis # 5\n",
    "tval3, pval3 = stats.ttest_ind(sales_1st_half.Sales_total, sales_2nd_half.Sales_total, equal_var=False)\n",
    "print(\"p-value is {}\".format(pval3/2))\n",
    "print(\"p-value is greater than 0.05 we fail to reject the null hypothesis\")"
   ]
  },
  {
   "cell_type": "markdown",
   "metadata": {},
   "source": [
    "### We failed to reject the Null Hypothesis"
   ]
  },
  {
   "cell_type": "code",
   "execution_count": 477,
   "metadata": {},
   "outputs": [
    {
     "data": {
      "image/png": "[encoded data removed]",
      "text/plain": [
       "<Figure size 792x360 with 1 Axes>"
      ]
     },
     "metadata": {
      "needs_background": "light"
     },
     "output_type": "display_data"
    }
   ],
   "source": [
    "# Visualize the PDF T-Distribution\n",
    "n_control = len(sales_1st_half.Sales_total)\n",
    "n_experimental = len(sales_2nd_half.Sales_total)\n",
    "visualize_t(tval3, n_control, n_experimental)"
   ]
  },
  {
   "cell_type": "markdown",
   "metadata": {},
   "source": [
    "### We Can that the T-statistic is less than the T-critical value at alpha=0.05. The Null Hypothesis is rejected"
   ]
  },
  {
   "cell_type": "markdown",
   "metadata": {},
   "source": [
    "# Question # 5: Results and Conclusions\n",
    "* Average order totals were slightly higher in the second half. \n",
    "* However, a statistically significant difference was not seen, and we failed to reject the null hypothesis\n"
   ]
  },
  {
   "cell_type": "markdown",
   "metadata": {},
   "source": [
    "# Question # 5: Business Insight\n",
    "* We are working with data from a limited time period, more data would certainly help us gage the revenue growth for Northwind\n",
    "* We had to split our data into data into equal groups for fair comparison.  We compared the average order totals for the first half group and compared with the second half group.\n",
    "* As the table below illustrates this was a fair comparison.  Total revenue and average order totals were slightly higher for the second half group in both cases.  In roughly the same proportion.\n",
    "* These increases were not at a level where a statistically significant difference could be found.\n",
    "* Overall it appears that Northwind made progress form the first half to the second half.\n",
    "* Multi-year data split into months or quarters would be a great help to judge Northwind’s revenue growth in the future\n",
    "\n"
   ]
  },
  {
   "cell_type": "code",
   "execution_count": 478,
   "metadata": {},
   "outputs": [
    {
     "data": {
      "text/html": [
       "<div>\n",
       "<style scoped>\n",
       "    .dataframe tbody tr th:only-of-type {\n",
       "        vertical-align: middle;\n",
       "    }\n",
       "\n",
       "    .dataframe tbody tr th {\n",
       "        vertical-align: top;\n",
       "    }\n",
       "\n",
       "    .dataframe thead th {\n",
       "        text-align: right;\n",
       "    }\n",
       "</style>\n",
       "<table border=\"1\" class=\"dataframe\">\n",
       "  <thead>\n",
       "    <tr style=\"text-align: right;\">\n",
       "      <th></th>\n",
       "      <th>Total Revenue</th>\n",
       "      <th>Average Order Total</th>\n",
       "    </tr>\n",
       "  </thead>\n",
       "  <tbody>\n",
       "    <tr>\n",
       "      <th>1st Half</th>\n",
       "      <td>603470.5175</td>\n",
       "      <td>1454.145825</td>\n",
       "    </tr>\n",
       "    <tr>\n",
       "      <th>2nd Half</th>\n",
       "      <td>662322.5220</td>\n",
       "      <td>1595.957884</td>\n",
       "    </tr>\n",
       "  </tbody>\n",
       "</table>\n",
       "</div>"
      ],
      "text/plain": [
       "          Total Revenue  Average Order Total\n",
       "1st Half    603470.5175          1454.145825\n",
       "2nd Half    662322.5220          1595.957884"
      ]
     },
     "execution_count": 478,
     "metadata": {},
     "output_type": "execute_result"
    }
   ],
   "source": [
    "data1 = {'1st Half': [sales_1st_half.Sales_total.sum(), sales_1st_half.Sales_total.mean()], \n",
    "         '2nd Half': [sales_2nd_half.Sales_total.sum(), sales_2nd_half.Sales_total.mean()]}\n",
    "columns1 = [\"Total Revenue\", \"Average Order Total\"]\n",
    "df_rev = pd.DataFrame.from_dict(data1, orient='index', columns=columns1)\n",
    "df_rev.head()"
   ]
  },
  {
   "cell_type": "markdown",
   "metadata": {},
   "source": [
    "# Conclusions\n",
    "* It was found that discounts do have a statistically significant positive effect on the number of items ordered\n",
    "* It was found that the levels of discount with a statistically significant effect were 5%, 15%, 20%, 25%\n",
    "* Interestingly 5% discount had roughly the same effect as 25% discount.  Further investigation and experimentation could help narrow down the lowest discount level that still produces these results.  This would help profit margin\n",
    "* It was found that average orders were statistically higher for western Europe compared to South America and Southern Europe. A statistical difference was also seen for North America and Southern Europe\n",
    "* Western Europe contributes the most revenue to Northwind's bottom line.  However, several other regions were found to have average order amounts close to Western Europe. Since these regions are already have high order totals, future marketing could help increase overall spending in these regions.\n",
    "* We divided up the orders from the customer base into broader regions.  the Americas and greater Europe.  No statistical difference in order amounts was seen.\n",
    "* This can be viewed as a positive sign. Northwind is a global trading company. One would hope that sales do equally well around the globe.  We found evidence that this is likely the case.\n",
    "* We also compared average sales among the different product categories.  No statistical difference was seen. Again, this can be viewed as good news.  As a company we would like all the products we offer to sell equally well.  This indeed appears to be the case\n",
    "* We also split the orders into first half and second half.  To investigate if revenue has grown.  No statistical difference was found. However, it does appear that total revenue and average amount per sale is trending upward.\n"
   ]
  },
  {
   "cell_type": "markdown",
   "metadata": {},
   "source": [
    "#  Business Recomendations\n",
    "* Discounts Increase Sales\n",
    "* Do more experimentation with discounts.  Find the lowest discount that consistently drives sales. This will increase profit.\n",
    "* Market more to the US, the UK Northern Europe and South America. These countries already have large quantities per order.  Marketing can increase the number of orders and the overall revenue from these regions.\n",
    "* Product categories seem to do equally well overall.  It would be interesting to test some market specific product launches. Test to see if this increased overall revenue by boosting regional sales.  \n",
    "* Get more multi-year sales data so we can better track the growth of Northwind.\n",
    "* Get arrival times for shippers. Delivery time is important for customer satisfaction"
   ]
  },
  {
   "cell_type": "markdown",
   "metadata": {},
   "source": [
    "# Future Directions\n",
    "* Certainly, Multi-year data would be very useful in future analysis\n",
    "* This would be useful for many different analyses.  Keeping track of revenue growth chief among them\n",
    "* It would also be nice to add more quantitative business metrics to our database\n",
    "* Business Metrics that you would normally see in quarterly or yearly business report.\n",
    "* There are very few Quantitative measures contained in the database. In most case data had to be connected back with order amount and quantity. As there were some the only quantitative features that could be measured\n",
    "* Adding more useful information like the shipping information I explore below\n",
    "\n"
   ]
  },
  {
   "cell_type": "markdown",
   "metadata": {},
   "source": [
    "### It would be interesting to see how Shipping Companies perform"
   ]
  },
  {
   "cell_type": "code",
   "execution_count": 479,
   "metadata": {},
   "outputs": [
    {
     "name": "stdout",
     "output_type": "stream",
     "text": [
      "2019-06-15 20:10:11,108 INFO sqlalchemy.engine.base.Engine \n",
      "SELECT o.OrderDate, o.ShippedDate, od.Quantity, s.CompanyName\n",
      "FROM [Order] o\n",
      "INNER JOIN [OrderDetail] od ON od.OrderId = o.Id\n",
      "INNER JOIN [Shipper] s ON s.Id = o.ShipVia\n",
      " \n",
      "2019-06-15 20:10:11,109 INFO sqlalchemy.engine.base.Engine ()\n"
     ]
    }
   ],
   "source": [
    "# Get what information we have about shipping times\n",
    "df_shipper = pd.read_sql_query('''\n",
    "SELECT o.OrderDate, o.ShippedDate, od.Quantity, s.CompanyName\n",
    "FROM [Order] o\n",
    "INNER JOIN [OrderDetail] od ON od.OrderId = o.Id\n",
    "INNER JOIN [Shipper] s ON s.Id = o.ShipVia\n",
    " ''', engine)"
   ]
  },
  {
   "cell_type": "code",
   "execution_count": 480,
   "metadata": {},
   "outputs": [
    {
     "data": {
      "text/html": [
       "<div>\n",
       "<style scoped>\n",
       "    .dataframe tbody tr th:only-of-type {\n",
       "        vertical-align: middle;\n",
       "    }\n",
       "\n",
       "    .dataframe tbody tr th {\n",
       "        vertical-align: top;\n",
       "    }\n",
       "\n",
       "    .dataframe thead th {\n",
       "        text-align: right;\n",
       "    }\n",
       "</style>\n",
       "<table border=\"1\" class=\"dataframe\">\n",
       "  <thead>\n",
       "    <tr style=\"text-align: right;\">\n",
       "      <th></th>\n",
       "      <th>OrderDate</th>\n",
       "      <th>ShippedDate</th>\n",
       "      <th>Quantity</th>\n",
       "      <th>CompanyName</th>\n",
       "    </tr>\n",
       "  </thead>\n",
       "  <tbody>\n",
       "    <tr>\n",
       "      <th>0</th>\n",
       "      <td>2012-07-04</td>\n",
       "      <td>2012-07-16</td>\n",
       "      <td>12</td>\n",
       "      <td>Federal Shipping</td>\n",
       "    </tr>\n",
       "    <tr>\n",
       "      <th>1</th>\n",
       "      <td>2012-07-04</td>\n",
       "      <td>2012-07-16</td>\n",
       "      <td>10</td>\n",
       "      <td>Federal Shipping</td>\n",
       "    </tr>\n",
       "    <tr>\n",
       "      <th>2</th>\n",
       "      <td>2012-07-04</td>\n",
       "      <td>2012-07-16</td>\n",
       "      <td>5</td>\n",
       "      <td>Federal Shipping</td>\n",
       "    </tr>\n",
       "    <tr>\n",
       "      <th>3</th>\n",
       "      <td>2012-07-05</td>\n",
       "      <td>2012-07-10</td>\n",
       "      <td>9</td>\n",
       "      <td>Speedy Express</td>\n",
       "    </tr>\n",
       "    <tr>\n",
       "      <th>4</th>\n",
       "      <td>2012-07-05</td>\n",
       "      <td>2012-07-10</td>\n",
       "      <td>40</td>\n",
       "      <td>Speedy Express</td>\n",
       "    </tr>\n",
       "  </tbody>\n",
       "</table>\n",
       "</div>"
      ],
      "text/plain": [
       "    OrderDate ShippedDate  Quantity       CompanyName\n",
       "0  2012-07-04  2012-07-16        12  Federal Shipping\n",
       "1  2012-07-04  2012-07-16        10  Federal Shipping\n",
       "2  2012-07-04  2012-07-16         5  Federal Shipping\n",
       "3  2012-07-05  2012-07-10         9    Speedy Express\n",
       "4  2012-07-05  2012-07-10        40    Speedy Express"
      ]
     },
     "execution_count": 480,
     "metadata": {},
     "output_type": "execute_result"
    }
   ],
   "source": [
    "df_shipper.head()"
   ]
  },
  {
   "cell_type": "markdown",
   "metadata": {},
   "source": [
    "### We only have information regarding the order date and shipping date. I will analyze this.  But it would actually helpful if in the future we actually could include arrival date.  This would probably be most relevant to the company and customer"
   ]
  },
  {
   "cell_type": "code",
   "execution_count": 481,
   "metadata": {},
   "outputs": [],
   "source": [
    "# Convert to datetime to get the number of days it took from order date to ship date\n",
    "df_shipper.OrderDate = pd.to_datetime(df_shipper.OrderDate)\n",
    "df_shipper.ShippedDate = pd.to_datetime(df_shipper.ShippedDate)\n",
    "df_shipper['time_to_ship'] = df_shipper.ShippedDate - df_shipper.OrderDate"
   ]
  },
  {
   "cell_type": "code",
   "execution_count": 482,
   "metadata": {},
   "outputs": [],
   "source": [
    "# Now convert the number days to a float for anlysis\n",
    "df_shipper.time_to_ship = df_shipper.time_to_ship.dt.days"
   ]
  },
  {
   "cell_type": "markdown",
   "metadata": {},
   "source": [
    "### Part of this reason this section is in future work is because the data is incomplete.  The data at the very bottom of this data frame is not in the same format and will not convert to datetime correctly.  This gives NaN values wich are not compatable with the Tukey's Test"
   ]
  },
  {
   "cell_type": "code",
   "execution_count": 483,
   "metadata": {},
   "outputs": [],
   "source": [
    "df_sh = df_shipper.iloc[:1800]\n"
   ]
  },
  {
   "cell_type": "code",
   "execution_count": 484,
   "metadata": {},
   "outputs": [
    {
     "data": {
      "text/html": [
       "<div>\n",
       "<style scoped>\n",
       "    .dataframe tbody tr th:only-of-type {\n",
       "        vertical-align: middle;\n",
       "    }\n",
       "\n",
       "    .dataframe tbody tr th {\n",
       "        vertical-align: top;\n",
       "    }\n",
       "\n",
       "    .dataframe thead th {\n",
       "        text-align: right;\n",
       "    }\n",
       "</style>\n",
       "<table border=\"1\" class=\"dataframe\">\n",
       "  <thead>\n",
       "    <tr style=\"text-align: right;\">\n",
       "      <th></th>\n",
       "      <th>Quantity</th>\n",
       "      <th>time_to_ship</th>\n",
       "    </tr>\n",
       "    <tr>\n",
       "      <th>CompanyName</th>\n",
       "      <th></th>\n",
       "      <th></th>\n",
       "    </tr>\n",
       "  </thead>\n",
       "  <tbody>\n",
       "    <tr>\n",
       "      <th>Federal Shipping</th>\n",
       "      <td>23.657343</td>\n",
       "      <td>7.676573</td>\n",
       "    </tr>\n",
       "    <tr>\n",
       "      <th>Speedy Express</th>\n",
       "      <td>25.090253</td>\n",
       "      <td>8.456679</td>\n",
       "    </tr>\n",
       "    <tr>\n",
       "      <th>United Package</th>\n",
       "      <td>23.157270</td>\n",
       "      <td>9.204748</td>\n",
       "    </tr>\n",
       "  </tbody>\n",
       "</table>\n",
       "</div>"
      ],
      "text/plain": [
       "                   Quantity  time_to_ship\n",
       "CompanyName                              \n",
       "Federal Shipping  23.657343      7.676573\n",
       "Speedy Express    25.090253      8.456679\n",
       "United Package    23.157270      9.204748"
      ]
     },
     "execution_count": 484,
     "metadata": {},
     "output_type": "execute_result"
    }
   ],
   "source": [
    "df_sh.groupby('CompanyName').mean()"
   ]
  },
  {
   "cell_type": "markdown",
   "metadata": {},
   "source": [
    "### I will not do the full EDA and anlysis but just for fun lets run a Tukey's test"
   ]
  },
  {
   "cell_type": "code",
   "execution_count": 485,
   "metadata": {},
   "outputs": [
    {
     "name": "stdout",
     "output_type": "stream",
     "text": [
      "      Multiple Comparison of Means - Tukey HSD,FWER=0.05      \n",
      "==============================================================\n",
      "     group1          group2     meandiff  lower  upper  reject\n",
      "--------------------------------------------------------------\n",
      "Federal Shipping Speedy Express  0.7801  -0.1767 1.7369 False \n",
      "Federal Shipping United Package  1.5282   0.6157 2.4407  True \n",
      " Speedy Express  United Package  0.7481  -0.1724 1.6686 False \n",
      "--------------------------------------------------------------\n"
     ]
    }
   ],
   "source": [
    "# Tukey's pairwise comparison of Shipping Companies' time to ship.  Lets see if we can see a difference between companies\n",
    "results4 = pairwise_tukeyhsd(df_sh.time_to_ship, df_sh.CompanyName, 0.05)\n",
    "print(results4)"
   ]
  },
  {
   "cell_type": "markdown",
   "metadata": {},
   "source": [
    "# Conclusions\n",
    "* We are still able to run Tukey's with 1800 samples and we see a significant difference between Federal and United\n",
    "* However this is comparing average time from ordering to the time the package ships\n",
    "* The true measure of a shipping companies performance would be to have data from order time to package arrival time"
   ]
  },
  {
   "cell_type": "markdown",
   "metadata": {},
   "source": [
    "## Another topic worth exploring in the future is employee sales metrics"
   ]
  },
  {
   "cell_type": "code",
   "execution_count": 486,
   "metadata": {},
   "outputs": [
    {
     "name": "stdout",
     "output_type": "stream",
     "text": [
      "2019-06-15 20:10:11,850 INFO sqlalchemy.engine.base.Engine \n",
      "SELECT e.Country, e.LastName, o.Id, od.Quantity\n",
      "FROM [OrderDetail] od\n",
      "INNER JOIN [Order] o ON o.Id = od.OrderId\n",
      "INNER JOIN [Employee] e ON e.Id = o.EmployeeId\n",
      " \n",
      "2019-06-15 20:10:11,852 INFO sqlalchemy.engine.base.Engine ()\n"
     ]
    }
   ],
   "source": [
    "# Get some information on employee sales from the database\n",
    "df_employee_sales = pd.read_sql_query('''\n",
    "SELECT e.Country, e.LastName, o.Id, od.Quantity\n",
    "FROM [OrderDetail] od\n",
    "INNER JOIN [Order] o ON o.Id = od.OrderId\n",
    "INNER JOIN [Employee] e ON e.Id = o.EmployeeId\n",
    " ''', engine)"
   ]
  },
  {
   "cell_type": "code",
   "execution_count": 487,
   "metadata": {},
   "outputs": [
    {
     "data": {
      "text/html": [
       "<div>\n",
       "<style scoped>\n",
       "    .dataframe tbody tr th:only-of-type {\n",
       "        vertical-align: middle;\n",
       "    }\n",
       "\n",
       "    .dataframe tbody tr th {\n",
       "        vertical-align: top;\n",
       "    }\n",
       "\n",
       "    .dataframe thead th {\n",
       "        text-align: right;\n",
       "    }\n",
       "</style>\n",
       "<table border=\"1\" class=\"dataframe\">\n",
       "  <thead>\n",
       "    <tr style=\"text-align: right;\">\n",
       "      <th></th>\n",
       "      <th>Country</th>\n",
       "      <th>LastName</th>\n",
       "      <th>Id</th>\n",
       "      <th>Quantity</th>\n",
       "    </tr>\n",
       "  </thead>\n",
       "  <tbody>\n",
       "    <tr>\n",
       "      <th>0</th>\n",
       "      <td>UK</td>\n",
       "      <td>Buchanan</td>\n",
       "      <td>10248</td>\n",
       "      <td>12</td>\n",
       "    </tr>\n",
       "    <tr>\n",
       "      <th>1</th>\n",
       "      <td>UK</td>\n",
       "      <td>Buchanan</td>\n",
       "      <td>10248</td>\n",
       "      <td>10</td>\n",
       "    </tr>\n",
       "    <tr>\n",
       "      <th>2</th>\n",
       "      <td>UK</td>\n",
       "      <td>Buchanan</td>\n",
       "      <td>10248</td>\n",
       "      <td>5</td>\n",
       "    </tr>\n",
       "    <tr>\n",
       "      <th>3</th>\n",
       "      <td>UK</td>\n",
       "      <td>Suyama</td>\n",
       "      <td>10249</td>\n",
       "      <td>9</td>\n",
       "    </tr>\n",
       "    <tr>\n",
       "      <th>4</th>\n",
       "      <td>UK</td>\n",
       "      <td>Suyama</td>\n",
       "      <td>10249</td>\n",
       "      <td>40</td>\n",
       "    </tr>\n",
       "  </tbody>\n",
       "</table>\n",
       "</div>"
      ],
      "text/plain": [
       "  Country  LastName     Id  Quantity\n",
       "0      UK  Buchanan  10248        12\n",
       "1      UK  Buchanan  10248        10\n",
       "2      UK  Buchanan  10248         5\n",
       "3      UK    Suyama  10249         9\n",
       "4      UK    Suyama  10249        40"
      ]
     },
     "execution_count": 487,
     "metadata": {},
     "output_type": "execute_result"
    }
   ],
   "source": [
    "df_employee_sales.head()"
   ]
  },
  {
   "cell_type": "code",
   "execution_count": 488,
   "metadata": {},
   "outputs": [
    {
     "data": {
      "text/html": [
       "<div>\n",
       "<style scoped>\n",
       "    .dataframe tbody tr th:only-of-type {\n",
       "        vertical-align: middle;\n",
       "    }\n",
       "\n",
       "    .dataframe tbody tr th {\n",
       "        vertical-align: top;\n",
       "    }\n",
       "\n",
       "    .dataframe thead th {\n",
       "        text-align: right;\n",
       "    }\n",
       "</style>\n",
       "<table border=\"1\" class=\"dataframe\">\n",
       "  <thead>\n",
       "    <tr style=\"text-align: right;\">\n",
       "      <th></th>\n",
       "      <th>count</th>\n",
       "      <th>mean</th>\n",
       "      <th>std</th>\n",
       "      <th>min</th>\n",
       "      <th>25%</th>\n",
       "      <th>50%</th>\n",
       "      <th>75%</th>\n",
       "      <th>max</th>\n",
       "    </tr>\n",
       "    <tr>\n",
       "      <th>LastName</th>\n",
       "      <th></th>\n",
       "      <th></th>\n",
       "      <th></th>\n",
       "      <th></th>\n",
       "      <th></th>\n",
       "      <th></th>\n",
       "      <th></th>\n",
       "      <th></th>\n",
       "    </tr>\n",
       "  </thead>\n",
       "  <tbody>\n",
       "    <tr>\n",
       "      <th>Buchanan</th>\n",
       "      <td>117.0</td>\n",
       "      <td>25.948718</td>\n",
       "      <td>20.755907</td>\n",
       "      <td>2.0</td>\n",
       "      <td>12.0</td>\n",
       "      <td>20.0</td>\n",
       "      <td>35.0</td>\n",
       "      <td>120.0</td>\n",
       "    </tr>\n",
       "    <tr>\n",
       "      <th>Callahan</th>\n",
       "      <td>260.0</td>\n",
       "      <td>22.742308</td>\n",
       "      <td>17.480462</td>\n",
       "      <td>2.0</td>\n",
       "      <td>10.0</td>\n",
       "      <td>20.0</td>\n",
       "      <td>30.0</td>\n",
       "      <td>100.0</td>\n",
       "    </tr>\n",
       "    <tr>\n",
       "      <th>Davolio</th>\n",
       "      <td>345.0</td>\n",
       "      <td>22.643478</td>\n",
       "      <td>19.658357</td>\n",
       "      <td>1.0</td>\n",
       "      <td>10.0</td>\n",
       "      <td>20.0</td>\n",
       "      <td>30.0</td>\n",
       "      <td>120.0</td>\n",
       "    </tr>\n",
       "    <tr>\n",
       "      <th>Dodsworth</th>\n",
       "      <td>107.0</td>\n",
       "      <td>24.953271</td>\n",
       "      <td>18.031096</td>\n",
       "      <td>1.0</td>\n",
       "      <td>12.0</td>\n",
       "      <td>20.0</td>\n",
       "      <td>35.0</td>\n",
       "      <td>110.0</td>\n",
       "    </tr>\n",
       "    <tr>\n",
       "      <th>Fuller</th>\n",
       "      <td>241.0</td>\n",
       "      <td>25.124481</td>\n",
       "      <td>21.164068</td>\n",
       "      <td>1.0</td>\n",
       "      <td>10.0</td>\n",
       "      <td>20.0</td>\n",
       "      <td>30.0</td>\n",
       "      <td>120.0</td>\n",
       "    </tr>\n",
       "    <tr>\n",
       "      <th>King</th>\n",
       "      <td>176.0</td>\n",
       "      <td>26.443182</td>\n",
       "      <td>21.185093</td>\n",
       "      <td>1.0</td>\n",
       "      <td>10.0</td>\n",
       "      <td>20.0</td>\n",
       "      <td>35.0</td>\n",
       "      <td>120.0</td>\n",
       "    </tr>\n",
       "    <tr>\n",
       "      <th>Leverling</th>\n",
       "      <td>321.0</td>\n",
       "      <td>24.461059</td>\n",
       "      <td>18.396651</td>\n",
       "      <td>2.0</td>\n",
       "      <td>10.0</td>\n",
       "      <td>20.0</td>\n",
       "      <td>30.0</td>\n",
       "      <td>110.0</td>\n",
       "    </tr>\n",
       "    <tr>\n",
       "      <th>Peacock</th>\n",
       "      <td>420.0</td>\n",
       "      <td>23.328571</td>\n",
       "      <td>18.105542</td>\n",
       "      <td>1.0</td>\n",
       "      <td>10.0</td>\n",
       "      <td>20.0</td>\n",
       "      <td>30.0</td>\n",
       "      <td>130.0</td>\n",
       "    </tr>\n",
       "    <tr>\n",
       "      <th>Suyama</th>\n",
       "      <td>168.0</td>\n",
       "      <td>20.994048</td>\n",
       "      <td>16.694686</td>\n",
       "      <td>2.0</td>\n",
       "      <td>10.0</td>\n",
       "      <td>18.0</td>\n",
       "      <td>28.5</td>\n",
       "      <td>130.0</td>\n",
       "    </tr>\n",
       "  </tbody>\n",
       "</table>\n",
       "</div>"
      ],
      "text/plain": [
       "           count       mean        std  min   25%   50%   75%    max\n",
       "LastName                                                            \n",
       "Buchanan   117.0  25.948718  20.755907  2.0  12.0  20.0  35.0  120.0\n",
       "Callahan   260.0  22.742308  17.480462  2.0  10.0  20.0  30.0  100.0\n",
       "Davolio    345.0  22.643478  19.658357  1.0  10.0  20.0  30.0  120.0\n",
       "Dodsworth  107.0  24.953271  18.031096  1.0  12.0  20.0  35.0  110.0\n",
       "Fuller     241.0  25.124481  21.164068  1.0  10.0  20.0  30.0  120.0\n",
       "King       176.0  26.443182  21.185093  1.0  10.0  20.0  35.0  120.0\n",
       "Leverling  321.0  24.461059  18.396651  2.0  10.0  20.0  30.0  110.0\n",
       "Peacock    420.0  23.328571  18.105542  1.0  10.0  20.0  30.0  130.0\n",
       "Suyama     168.0  20.994048  16.694686  2.0  10.0  18.0  28.5  130.0"
      ]
     },
     "execution_count": 488,
     "metadata": {},
     "output_type": "execute_result"
    }
   ],
   "source": [
    "df_employee_sales.groupby('LastName')['Quantity'].describe()"
   ]
  },
  {
   "cell_type": "markdown",
   "metadata": {},
   "source": [
    "## We might want to see if we can identify employees with different sales records"
   ]
  },
  {
   "cell_type": "code",
   "execution_count": 489,
   "metadata": {},
   "outputs": [
    {
     "name": "stdout",
     "output_type": "stream",
     "text": [
      " Multiple Comparison of Means - Tukey HSD,FWER=0.05\n",
      "===================================================\n",
      "  group1    group2  meandiff  lower   upper  reject\n",
      "---------------------------------------------------\n",
      " Buchanan  Callahan -3.2064   -9.774  3.3612 False \n",
      " Buchanan  Davolio  -3.3052  -9.6168  3.0063 False \n",
      " Buchanan Dodsworth -0.9954  -8.8869  6.896  False \n",
      " Buchanan   Fuller  -0.8242  -7.4717  5.8233 False \n",
      " Buchanan    King    0.4945  -6.5428  7.5317 False \n",
      " Buchanan Leverling -1.4877  -7.8587  4.8834 False \n",
      " Buchanan  Peacock  -2.6201  -8.7873  3.547  False \n",
      " Buchanan   Suyama  -4.9547  -12.0585 2.1492 False \n",
      " Callahan  Davolio  -0.0988  -4.9439  4.7462 False \n",
      " Callahan Dodsworth  2.211    -4.565  8.987  False \n",
      " Callahan   Fuller   2.3822  -2.8931  7.6574 False \n",
      " Callahan    King    3.7009  -2.0577  9.4595 False \n",
      " Callahan Leverling  1.7188  -3.2035  6.641  False \n",
      " Callahan  Peacock   0.5863  -4.0692  5.2417 False \n",
      " Callahan   Suyama  -1.7483  -7.5881  4.0916 False \n",
      " Davolio  Dodsworth  2.3098  -4.2183  8.8379 False \n",
      " Davolio    Fuller   2.481   -2.4718  7.4338 False \n",
      " Davolio     King    3.7997  -1.6651  9.2645 False \n",
      " Davolio  Leverling  1.8176  -2.7574  6.3926 False \n",
      " Davolio   Peacock   0.6851  -3.6015  4.9717 False \n",
      " Davolio    Suyama  -1.6494  -7.1997  3.9008 False \n",
      "Dodsworth   Fuller   0.1712  -6.6822  7.0246 False \n",
      "Dodsworth    King    1.4899  -5.7422  8.722  False \n",
      "Dodsworth Leverling -0.4922  -7.0778  6.0934 False \n",
      "Dodsworth  Peacock  -1.6247  -8.0133  4.7639 False \n",
      "Dodsworth   Suyama  -3.9592  -11.2561 3.3377 False \n",
      "  Fuller     King    1.3187  -4.5308  7.1682 False \n",
      "  Fuller  Leverling -0.6634  -5.6918  4.3649 False \n",
      "  Fuller   Peacock  -1.7959  -6.5634  2.9715 False \n",
      "  Fuller    Suyama  -4.1304  -10.0599 1.799  False \n",
      "   King   Leverling -1.9821  -7.5155  3.5512 False \n",
      "   King    Peacock  -3.1146   -8.412  2.1828 False \n",
      "   King     Suyama  -5.4491  -11.8125 0.9142 False \n",
      "Leverling  Peacock  -1.1325  -5.5062  3.2412 False \n",
      "Leverling   Suyama   -3.467  -9.0848  2.1508 False \n",
      " Peacock    Suyama  -2.3345   -7.72   3.051  False \n",
      "---------------------------------------------------\n"
     ]
    }
   ],
   "source": [
    "# Tukey's pairwise comparison of Shipping Companies' time to ship.  Lets see if we can see a difference between companies\n",
    "results5 = pairwise_tukeyhsd(df_employee_sales.Quantity, df_employee_sales.LastName, 0.05)\n",
    "print(results5)"
   ]
  },
  {
   "cell_type": "markdown",
   "metadata": {},
   "source": [
    "## Our initial examination did not reveal any differences\n",
    "* More data, deeper investigation or different testing methods may reveal higher sales totals for individual employee\n",
    "* This can also mean that all sales people are performing at a high level\n",
    "* It is still an interesting question that should be investigated"
   ]
  },
  {
   "cell_type": "code",
   "execution_count": 490,
   "metadata": {},
   "outputs": [
    {
     "data": {
      "text/html": [
       "<div>\n",
       "<style scoped>\n",
       "    .dataframe tbody tr th:only-of-type {\n",
       "        vertical-align: middle;\n",
       "    }\n",
       "\n",
       "    .dataframe tbody tr th {\n",
       "        vertical-align: top;\n",
       "    }\n",
       "\n",
       "    .dataframe thead th {\n",
       "        text-align: right;\n",
       "    }\n",
       "</style>\n",
       "<table border=\"1\" class=\"dataframe\">\n",
       "  <thead>\n",
       "    <tr style=\"text-align: right;\">\n",
       "      <th></th>\n",
       "      <th>count</th>\n",
       "      <th>mean</th>\n",
       "      <th>std</th>\n",
       "      <th>min</th>\n",
       "      <th>25%</th>\n",
       "      <th>50%</th>\n",
       "      <th>75%</th>\n",
       "      <th>max</th>\n",
       "    </tr>\n",
       "    <tr>\n",
       "      <th>Country</th>\n",
       "      <th></th>\n",
       "      <th></th>\n",
       "      <th></th>\n",
       "      <th></th>\n",
       "      <th></th>\n",
       "      <th></th>\n",
       "      <th></th>\n",
       "      <th></th>\n",
       "    </tr>\n",
       "  </thead>\n",
       "  <tbody>\n",
       "    <tr>\n",
       "      <th>UK</th>\n",
       "      <td>568.0</td>\n",
       "      <td>24.448944</td>\n",
       "      <td>19.360067</td>\n",
       "      <td>1.0</td>\n",
       "      <td>10.0</td>\n",
       "      <td>20.0</td>\n",
       "      <td>30.0</td>\n",
       "      <td>130.0</td>\n",
       "    </tr>\n",
       "    <tr>\n",
       "      <th>USA</th>\n",
       "      <td>1587.0</td>\n",
       "      <td>23.585381</td>\n",
       "      <td>18.900569</td>\n",
       "      <td>1.0</td>\n",
       "      <td>10.0</td>\n",
       "      <td>20.0</td>\n",
       "      <td>30.0</td>\n",
       "      <td>130.0</td>\n",
       "    </tr>\n",
       "  </tbody>\n",
       "</table>\n",
       "</div>"
      ],
      "text/plain": [
       "          count       mean        std  min   25%   50%   75%    max\n",
       "Country                                                            \n",
       "UK        568.0  24.448944  19.360067  1.0  10.0  20.0  30.0  130.0\n",
       "USA      1587.0  23.585381  18.900569  1.0  10.0  20.0  30.0  130.0"
      ]
     },
     "execution_count": 490,
     "metadata": {},
     "output_type": "execute_result"
    }
   ],
   "source": [
    "df_employee_sales.groupby('Country')['Quantity'].describe()"
   ]
  },
  {
   "cell_type": "markdown",
   "metadata": {},
   "source": [
    "## This another interesting Question.  Sales by employee location\n",
    "* There doesnt appear to be a difference at initial glance\n",
    "* Again that does have a negative connotation. This can mean employees from the US and the UK are performing equally well\n",
    "* Seems worth the time to investigate"
   ]
  },
  {
   "cell_type": "code",
   "execution_count": 491,
   "metadata": {},
   "outputs": [
    {
     "name": "stdout",
     "output_type": "stream",
     "text": [
      "Multiple Comparison of Means - Tukey HSD,FWER=0.05\n",
      "============================================\n",
      "group1 group2 meandiff  lower  upper  reject\n",
      "--------------------------------------------\n",
      "  UK    USA   -0.8636  -2.6876 0.9604 False \n",
      "--------------------------------------------\n"
     ]
    }
   ],
   "source": [
    "# Tukey's pairwise comparison of Shipping Companies' time to ship.  Lets see if we can see a difference between companies\n",
    "results6 = pairwise_tukeyhsd(df_employee_sales.Quantity, df_employee_sales.Country, 0.05)\n",
    "print(results6)"
   ]
  },
  {
   "cell_type": "markdown",
   "metadata": {},
   "source": [
    "# THANK YOU!"
   ]
  }
 ],
 "metadata": {
  "kernelspec": {
   "display_name": "Python 3",
   "language": "python",
   "name": "python3"
  },
  "language_info": {
   "codemirror_mode": {
    "name": "ipython",
    "version": 3
   },
   "file_extension": ".py",
   "mimetype": "text/x-python",
   "name": "python",
   "nbconvert_exporter": "python",
   "pygments_lexer": "ipython3",
   "version": "3.7.3"
  }
 },
 "nbformat": 4,
 "nbformat_minor": 2
}
